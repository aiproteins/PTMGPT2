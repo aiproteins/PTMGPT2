{
 "cells": [
  {
   "cell_type": "code",
   "execution_count": null,
   "id": "db852cb5-4917-475e-9174-82c06c0e4338",
   "metadata": {},
   "outputs": [],
   "source": [
    "#Import necessary libraries\n",
    "import os\n",
    "import torch\n",
    "import evaluate\n",
    "import numpy as np\n",
    "import pandas as pd\n",
    "import torch.nn.functional as F\n",
    "from torch.utils.data import DataLoader,Dataset\n",
    "from sklearn.model_selection import StratifiedShuffleSplit\n",
    "from transformers import DataCollatorWithPadding,DataCollatorForSeq2Seq\n",
    "from transformers import AutoTokenizer, GPT2LMHeadModel,TrainingArguments, Trainer,GPT2Config,EarlyStoppingCallback\n",
    "from sklearn.metrics import average_precision_score,matthews_corrcoef,f1_score, precision_score, recall_score, balanced_accuracy_score"
   ]
  },
  {
   "cell_type": "code",
   "execution_count": null,
   "id": "821ff1a4-5127-41c3-bfb5-efcc9013fbcc",
   "metadata": {},
   "outputs": [],
   "source": [
    "#Use GPU else specify '-1' for CPU\n",
    "os.environ[\"CUDA_VISIBLE_DEVICES\"]=\"0\""
   ]
  },
  {
   "cell_type": "code",
   "execution_count": null,
   "id": "08ddc2ed-f76d-472f-9a33-7a22a309b448",
   "metadata": {},
   "outputs": [],
   "source": [
    "#Initialize tokenizer\n",
    "tokenizer = AutoTokenizer.from_pretrained('nferruz/ProtGPT2',bos_token='<startoftext>',eos_token='<endoftext>',pad_token='<PAD>')"
   ]
  },
  {
   "cell_type": "code",
   "execution_count": 3,
   "id": "f44dfd1a-6f97-4e31-bf10-7c8aa2b947a6",
   "metadata": {},
   "outputs": [
    {
     "data": {
      "text/plain": [
       "2"
      ]
     },
     "execution_count": 3,
     "metadata": {},
     "output_type": "execute_result"
    }
   ],
   "source": [
    "#Add custom tokens\n",
    "tokenizer.add_tokens(['POSITIVE','NEGATIVE'])"
   ]
  },
  {
   "cell_type": "code",
   "execution_count": 5,
   "id": "f526869d-579a-43d4-9262-789ae4035983",
   "metadata": {},
   "outputs": [],
   "source": [
    "#Map positive/negative labels and prepare prompt for inference\n",
    "class SequenceClassificationDataset(Dataset):\n",
    "    def __init__(self, sequences, labels, tokenizer):\n",
    "        self.sequences = sequences\n",
    "        self.labels = labels\n",
    "        self.tokenizer = tokenizer\n",
    "        self.map_label={0:'NEGATIVE',1:'POSITIVE'}\n",
    "    def __len__(self):\n",
    "        return len(self.sequences)\n",
    "\n",
    "    def __getitem__(self, idx):\n",
    "        sequence = self.sequences[idx]\n",
    "        label = self.labels[idx]\n",
    "        prep_txt= f'<startoftext>{sequence}\\n'\n",
    "        encoding = self.tokenizer(prep_txt,return_tensors='pt')\n",
    "        return  {\n",
    "            'input_ids': encoding['input_ids'].squeeze(), \n",
    "            'attention_mask': encoding['attention_mask'].squeeze(), \n",
    "            'label': label\n",
    "        }"
   ]
  },
  {
   "cell_type": "code",
   "execution_count": 6,
   "id": "0575d48c-856d-4b30-bfb1-49d1cc9fa4bf",
   "metadata": {},
   "outputs": [],
   "source": [
    "#Load benchmark dataset\n",
    "data=pd.read_csv('benchmark.csv')"
   ]
  },
  {
   "cell_type": "code",
   "execution_count": 7,
   "id": "856c6b0f-e1f6-48b9-9970-ef1a3e81c8a5",
   "metadata": {},
   "outputs": [
    {
     "data": {
      "text/html": [
       "<div>\n",
       "<style scoped>\n",
       "    .dataframe tbody tr th:only-of-type {\n",
       "        vertical-align: middle;\n",
       "    }\n",
       "\n",
       "    .dataframe tbody tr th {\n",
       "        vertical-align: top;\n",
       "    }\n",
       "\n",
       "    .dataframe thead th {\n",
       "        text-align: right;\n",
       "    }\n",
       "</style>\n",
       "<table border=\"1\" class=\"dataframe\">\n",
       "  <thead>\n",
       "    <tr style=\"text-align: right;\">\n",
       "      <th></th>\n",
       "      <th>Uniprot</th>\n",
       "      <th>Res</th>\n",
       "      <th>Sequence</th>\n",
       "      <th>Label</th>\n",
       "      <th>Seq-51</th>\n",
       "    </tr>\n",
       "  </thead>\n",
       "  <tbody>\n",
       "    <tr>\n",
       "      <th>1861</th>\n",
       "      <td>HIPK2_HUMAN</td>\n",
       "      <td>675</td>\n",
       "      <td>MAPVYEGMASHVQVFSPHTLQSSAFCSVKKLKIEPSSNWDMTGYGS...</td>\n",
       "      <td>0</td>\n",
       "      <td>PFQQALIVCPPGFQGLQASPSKHAGYSVRMENAVPIVTQAPGAQPL...</td>\n",
       "    </tr>\n",
       "    <tr>\n",
       "      <th>1862</th>\n",
       "      <td>HIPK2_HUMAN</td>\n",
       "      <td>285</td>\n",
       "      <td>MAPVYEGMASHVQVFSPHTLQSSAFCSVKKLKIEPSSNWDMTGYGS...</td>\n",
       "      <td>0</td>\n",
       "      <td>FVRAYECFQHKNHTCLVFEMLEQNLYDFLKQNKFSPLPLKYIRPVL...</td>\n",
       "    </tr>\n",
       "    <tr>\n",
       "      <th>1864</th>\n",
       "      <td>HIPK2_HUMAN</td>\n",
       "      <td>558</td>\n",
       "      <td>MAPVYEGMASHVQVFSPHTLQSSAFCSVKKLKIEPSSNWDMTGYGS...</td>\n",
       "      <td>0</td>\n",
       "      <td>LDFPHSTHVKSCFQNMEICKRRVNMYDTVNQSKTPFITHVAPSTST...</td>\n",
       "    </tr>\n",
       "    <tr>\n",
       "      <th>1865</th>\n",
       "      <td>HIPK2_HUMAN</td>\n",
       "      <td>1061</td>\n",
       "      <td>MAPVYEGMASHVQVFSPHTLQSSAFCSVKKLKIEPSSNWDMTGYGS...</td>\n",
       "      <td>0</td>\n",
       "      <td>QPLNLSQAQQHITTDRTGSHRRQQAYITPTMAQAPYSFPHNSPSHG...</td>\n",
       "    </tr>\n",
       "    <tr>\n",
       "      <th>1871</th>\n",
       "      <td>HIPK2_HUMAN</td>\n",
       "      <td>264</td>\n",
       "      <td>MAPVYEGMASHVQVFSPHTLQSSAFCSVKKLKIEPSSNWDMTGYGS...</td>\n",
       "      <td>0</td>\n",
       "      <td>QGQIEVSILARLSTESADDYNFVRAYECFQHKNHTCLVFEMLEQNL...</td>\n",
       "    </tr>\n",
       "    <tr>\n",
       "      <th>...</th>\n",
       "      <td>...</td>\n",
       "      <td>...</td>\n",
       "      <td>...</td>\n",
       "      <td>...</td>\n",
       "      <td>...</td>\n",
       "    </tr>\n",
       "    <tr>\n",
       "      <th>53749</th>\n",
       "      <td>SYUB_HUMAN</td>\n",
       "      <td>39</td>\n",
       "      <td>MDVFMKGLSMAKEGVVAAAEKTKQGVTEAAEKTKEGVLYVGSKTRE...</td>\n",
       "      <td>0</td>\n",
       "      <td>GVVAAAEKTKQGVTEAAEKTKEGVLYVGSKTREGVVQGVASVAEKT...</td>\n",
       "    </tr>\n",
       "    <tr>\n",
       "      <th>53750</th>\n",
       "      <td>SYUB_HUMAN</td>\n",
       "      <td>119</td>\n",
       "      <td>MDVFMKGLSMAKEGVVAAAEKTKQGVTEAAEKTKEGVLYVGSKTRE...</td>\n",
       "      <td>0</td>\n",
       "      <td>KPEEVAQEAAEEPLIEPLMEPEGESYEDPPQEEYQEYEPEA-----...</td>\n",
       "    </tr>\n",
       "    <tr>\n",
       "      <th>54035</th>\n",
       "      <td>B4DDL9_HUMAN</td>\n",
       "      <td>209</td>\n",
       "      <td>MENFQKVERIGEGTYGVVYKARNKLTGEVVALKKIRLDTLLDVIHT...</td>\n",
       "      <td>0</td>\n",
       "      <td>ARQDFSKVVPPLDEDGRSLLSQTLHYDPNKRISAKAALAHPFFQDV...</td>\n",
       "    </tr>\n",
       "    <tr>\n",
       "      <th>54036</th>\n",
       "      <td>B4DDL9_HUMAN</td>\n",
       "      <td>19</td>\n",
       "      <td>MENFQKVERIGEGTYGVVYKARNKLTGEVVALKKIRLDTLLDVIHT...</td>\n",
       "      <td>1</td>\n",
       "      <td>-------MENFQKVERIGEGTYGVVYKARNKLTGEVVALKKIRLDT...</td>\n",
       "    </tr>\n",
       "    <tr>\n",
       "      <th>54132</th>\n",
       "      <td>CDK2_HUMAN</td>\n",
       "      <td>168</td>\n",
       "      <td>MENFQKVEKIGEGTYGVVYKARNKLTGEVVALKKIRLDTETEGVPS...</td>\n",
       "      <td>1</td>\n",
       "      <td>LADFGLARAFGVPVRTYTHEVVTLWYRAPEILLGCKYYSTAVDIWS...</td>\n",
       "    </tr>\n",
       "  </tbody>\n",
       "</table>\n",
       "<p>468 rows × 5 columns</p>\n",
       "</div>"
      ],
      "text/plain": [
       "            Uniprot   Res                                           Sequence  \\\n",
       "1861    HIPK2_HUMAN   675  MAPVYEGMASHVQVFSPHTLQSSAFCSVKKLKIEPSSNWDMTGYGS...   \n",
       "1862    HIPK2_HUMAN   285  MAPVYEGMASHVQVFSPHTLQSSAFCSVKKLKIEPSSNWDMTGYGS...   \n",
       "1864    HIPK2_HUMAN   558  MAPVYEGMASHVQVFSPHTLQSSAFCSVKKLKIEPSSNWDMTGYGS...   \n",
       "1865    HIPK2_HUMAN  1061  MAPVYEGMASHVQVFSPHTLQSSAFCSVKKLKIEPSSNWDMTGYGS...   \n",
       "1871    HIPK2_HUMAN   264  MAPVYEGMASHVQVFSPHTLQSSAFCSVKKLKIEPSSNWDMTGYGS...   \n",
       "...             ...   ...                                                ...   \n",
       "53749    SYUB_HUMAN    39  MDVFMKGLSMAKEGVVAAAEKTKQGVTEAAEKTKEGVLYVGSKTRE...   \n",
       "53750    SYUB_HUMAN   119  MDVFMKGLSMAKEGVVAAAEKTKQGVTEAAEKTKEGVLYVGSKTRE...   \n",
       "54035  B4DDL9_HUMAN   209  MENFQKVERIGEGTYGVVYKARNKLTGEVVALKKIRLDTLLDVIHT...   \n",
       "54036  B4DDL9_HUMAN    19  MENFQKVERIGEGTYGVVYKARNKLTGEVVALKKIRLDTLLDVIHT...   \n",
       "54132    CDK2_HUMAN   168  MENFQKVEKIGEGTYGVVYKARNKLTGEVVALKKIRLDTETEGVPS...   \n",
       "\n",
       "       Label                                             Seq-51  \n",
       "1861       0  PFQQALIVCPPGFQGLQASPSKHAGYSVRMENAVPIVTQAPGAQPL...  \n",
       "1862       0  FVRAYECFQHKNHTCLVFEMLEQNLYDFLKQNKFSPLPLKYIRPVL...  \n",
       "1864       0  LDFPHSTHVKSCFQNMEICKRRVNMYDTVNQSKTPFITHVAPSTST...  \n",
       "1865       0  QPLNLSQAQQHITTDRTGSHRRQQAYITPTMAQAPYSFPHNSPSHG...  \n",
       "1871       0  QGQIEVSILARLSTESADDYNFVRAYECFQHKNHTCLVFEMLEQNL...  \n",
       "...      ...                                                ...  \n",
       "53749      0  GVVAAAEKTKQGVTEAAEKTKEGVLYVGSKTREGVVQGVASVAEKT...  \n",
       "53750      0  KPEEVAQEAAEEPLIEPLMEPEGESYEDPPQEEYQEYEPEA-----...  \n",
       "54035      0  ARQDFSKVVPPLDEDGRSLLSQTLHYDPNKRISAKAALAHPFFQDV...  \n",
       "54036      1  -------MENFQKVERIGEGTYGVVYKARNKLTGEVVALKKIRLDT...  \n",
       "54132      1  LADFGLARAFGVPVRTYTHEVVTLWYRAPEILLGCKYYSTAVDIWS...  \n",
       "\n",
       "[468 rows x 5 columns]"
      ]
     },
     "execution_count": 7,
     "metadata": {},
     "output_type": "execute_result"
    }
   ],
   "source": [
    "#Check the choice for central amino acid\n",
    "check = ['Y']\n",
    "mask = data['Seq-51'].apply(lambda s: s[len(s)//2] in check)\n",
    "data = data[mask]\n",
    "data"
   ]
  },
  {
   "cell_type": "code",
   "execution_count": 8,
   "id": "7836c399-2b20-4ad2-9228-e58b8f9271f2",
   "metadata": {},
   "outputs": [],
   "source": [
    "data['Seq-51']=data['Seq-51'].str.replace('\\n','')"
   ]
  },
  {
   "cell_type": "code",
   "execution_count": 9,
   "id": "e1d4625a-a3fb-4343-a1e9-2b7e868074fc",
   "metadata": {},
   "outputs": [],
   "source": [
    "data['Seq-51']=data['Seq-51'].str.replace('-','')"
   ]
  },
  {
   "cell_type": "code",
   "execution_count": 10,
   "id": "c1ca66e7-28a7-48f9-b020-5a5175dada02",
   "metadata": {},
   "outputs": [
    {
     "data": {
      "text/plain": [
       "0    431\n",
       "1     37\n",
       "Name: Label, dtype: int64"
      ]
     },
     "execution_count": 10,
     "metadata": {},
     "output_type": "execute_result"
    }
   ],
   "source": [
    "data['Label'].value_counts()"
   ]
  },
  {
   "cell_type": "code",
   "execution_count": 11,
   "id": "32b7542a-c0a2-4095-bb73-08c9c0afb1ad",
   "metadata": {},
   "outputs": [],
   "source": [
    "data = data.reset_index(drop=True)"
   ]
  },
  {
   "cell_type": "code",
   "execution_count": 12,
   "id": "09870a8e-f093-4129-9020-c239daf7924f",
   "metadata": {},
   "outputs": [],
   "source": [
    "test_texts=data['Seq-51']\n",
    "test_labels =data['Label']"
   ]
  },
  {
   "cell_type": "code",
   "execution_count": 13,
   "id": "b1fdc91e-9238-469d-bb3d-8ef666e67ed1",
   "metadata": {},
   "outputs": [],
   "source": [
    "test_dataset=SequenceClassificationDataset(test_texts,test_labels,tokenizer)"
   ]
  },
  {
   "cell_type": "code",
   "execution_count": 14,
   "id": "4cc59ddc-20c4-460e-852c-87cdf3e599e4",
   "metadata": {},
   "outputs": [],
   "source": [
    "test_data_loder= DataLoader(test_dataset,collate_fn=DataCollatorForSeq2Seq(tokenizer=tokenizer,padding=True),batch_size=1)"
   ]
  },
  {
   "cell_type": "code",
   "execution_count": 15,
   "id": "7e03b7d1-f954-46a7-b9b5-10a719cbe9d0",
   "metadata": {},
   "outputs": [],
   "source": [
    "map_label={0:'NEGATIVE',1:'POSITIVE'}"
   ]
  },
  {
   "cell_type": "code",
   "execution_count": 16,
   "id": "85664147-eb97-4382-9132-83ad668597e0",
   "metadata": {},
   "outputs": [],
   "source": [
    "def get_score(mdl_path):\n",
    "    model_config = GPT2Config.from_pretrained(mdl_path)\n",
    "    model = GPT2LMHeadModel.from_pretrained(mdl_path,config=model_config,ignore_mismatched_sizes=True)\n",
    "    model=model.cuda().eval()\n",
    "    predition=[]\n",
    "    for i,x in enumerate(test_data_loder):\n",
    "        Actual=f\"{tokenizer.decode(x['input_ids'][0],skip_special_tokens=True)} {x['label']}\"\n",
    "        generated=x['input_ids'].cuda()\n",
    "        sample_outputs=model.generate(generated,attention_mask=x['attention_mask'].cuda(),do_sample=False,top_k=50,max_new_tokens=2,top_p=0.15,temperature=0.1,num_return_sequences=0,pad_token_id=tokenizer.eos_token_id)\n",
    "        predicted_text=tokenizer.decode(sample_outputs[0],skip_special_tokens=True)\n",
    "        predition+=[[map_label[int(x.pop('label'))],predicted_text.split('\\n')[-1]]]\n",
    "    labels=[[0 if y=='NEGATIVE' else 1  for y in x] for x in predition]\n",
    "    labels=np.asanyarray(labels)\n",
    "    actual=labels[:,0]\n",
    "    pred=labels[:,1]\n",
    "    return f1_score(actual,pred),matthews_corrcoef(actual,pred), precision_score(actual,pred), recall_score(actual, pred), average_precision_score(actual,pred)"
   ]
  },
  {
   "cell_type": "code",
   "execution_count": null,
   "id": "5469f289-ae86-4b6d-b76d-fe1f36364bc6",
   "metadata": {
    "scrolled": true,
    "tags": []
   },
   "outputs": [],
   "source": [
    "#replace the path with best performing checkpoint\n",
    "get_score('checkpoint-22500/')"
   ]
  },
  {
   "cell_type": "markdown",
   "id": "b91784c8-181f-4211-9d15-0c822fdf00b1",
   "metadata": {},
   "source": [
    "# Check the best performing checkpoint in the benchmark dataset"
   ]
  },
  {
   "cell_type": "code",
   "execution_count": 21,
   "id": "4c4d0bcd-bc8d-45db-bfd0-2bf6f58eac25",
   "metadata": {},
   "outputs": [],
   "source": [
    "results=[]"
   ]
  },
  {
   "cell_type": "code",
   "execution_count": null,
   "id": "b0bf4fc2-5ffb-459b-a29a-d1f2e8cbfb54",
   "metadata": {
    "scrolled": true,
    "tags": []
   },
   "outputs": [],
   "source": [
    "#Replace the path with the output directory used during model training\n",
    "for mdl in os.listdir('/media/8TB_hardisk/results-Prompt4/'):\n",
    "    if 'checkpoint' in mdl:\n",
    "        mdl_path='/media/8TB_hardisk/results-Prompt4/'+mdl\n",
    "        f1,mcc,prc,rec,avg=get_score(mdl_path)\n",
    "        with open('results-Prompt4.csv','a') as f:\n",
    "            f.write(f'{mdl},{f1},{mcc},{prc},{rec},{avg}\\n')"
   ]
  },
  {
   "cell_type": "code",
   "execution_count": null,
   "id": "32037a7b-55da-467a-bb8d-a13e6309be4d",
   "metadata": {},
   "outputs": [],
   "source": []
  }
 ],
 "metadata": {
  "kernelspec": {
   "display_name": "Python 3 (ipykernel)",
   "language": "python",
   "name": "python3"
  },
  "language_info": {
   "codemirror_mode": {
    "name": "ipython",
    "version": 3
   },
   "file_extension": ".py",
   "mimetype": "text/x-python",
   "name": "python",
   "nbconvert_exporter": "python",
   "pygments_lexer": "ipython3",
   "version": "3.11.3"
  }
 },
 "nbformat": 4,
 "nbformat_minor": 5
}
