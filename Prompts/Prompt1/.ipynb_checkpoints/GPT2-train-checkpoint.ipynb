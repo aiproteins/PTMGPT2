{
 "cells": [
  {
   "cell_type": "code",
   "execution_count": 1,
   "id": "db852cb5-4917-475e-9174-82c06c0e4338",
   "metadata": {},
   "outputs": [
    {
     "name": "stderr",
     "output_type": "stream",
     "text": [
      "/home/jeevan/anaconda3/envs/succi/lib/python3.11/site-packages/tqdm/auto.py:21: TqdmWarning: IProgress not found. Please update jupyter and ipywidgets. See https://ipywidgets.readthedocs.io/en/stable/user_install.html\n",
      "  from .autonotebook import tqdm as notebook_tqdm\n"
     ]
    }
   ],
   "source": [
    "from transformers import AutoTokenizer, GPT2LMHeadModel,TrainingArguments, Trainer,GPT2Config,EarlyStoppingCallback\n",
    "import torch\n",
    "import pandas as pd\n",
    "from sklearn.model_selection import StratifiedShuffleSplit\n",
    "from torch.utils.data import DataLoader,Dataset\n",
    "from transformers import DataCollatorWithPadding,DataCollatorForSeq2Seq\n",
    "import os\n",
    "import torch.nn.functional as F\n",
    "os.environ[\"CUDA_VISIBLE_DEVICES\"]=\"0\"\n",
    "import evaluate"
   ]
  },
  {
   "cell_type": "code",
   "execution_count": 2,
   "id": "5b00c504-febc-4a5b-85b6-12f53a8afcc2",
   "metadata": {},
   "outputs": [],
   "source": [
    "data=pd.read_csv('/home/jeevan/succi/Glutathionylation/cd_hit_data-Glutathionylation.csv')"
   ]
  },
  {
   "cell_type": "code",
   "execution_count": 3,
   "id": "03612da8-7bae-400e-a94d-851481a8aff4",
   "metadata": {},
   "outputs": [
    {
     "data": {
      "text/html": [
       "<div>\n",
       "<style scoped>\n",
       "    .dataframe tbody tr th:only-of-type {\n",
       "        vertical-align: middle;\n",
       "    }\n",
       "\n",
       "    .dataframe tbody tr th {\n",
       "        vertical-align: top;\n",
       "    }\n",
       "\n",
       "    .dataframe thead th {\n",
       "        text-align: right;\n",
       "    }\n",
       "</style>\n",
       "<table border=\"1\" class=\"dataframe\">\n",
       "  <thead>\n",
       "    <tr style=\"text-align: right;\">\n",
       "      <th></th>\n",
       "      <th>Seq</th>\n",
       "      <th>Label</th>\n",
       "    </tr>\n",
       "  </thead>\n",
       "  <tbody>\n",
       "    <tr>\n",
       "      <th>0</th>\n",
       "      <td>AYAREEFASTCPDDEEIELAY</td>\n",
       "      <td>1</td>\n",
       "    </tr>\n",
       "    <tr>\n",
       "      <th>1</th>\n",
       "      <td>YEVFGRVQGVCFRMYAEDEAR</td>\n",
       "      <td>1</td>\n",
       "    </tr>\n",
       "    <tr>\n",
       "      <th>2</th>\n",
       "      <td>AWIGYEHTSFCGQQFILERGE</td>\n",
       "      <td>1</td>\n",
       "    </tr>\n",
       "    <tr>\n",
       "      <th>3</th>\n",
       "      <td>IERLMSFRPICSANHKESKMT</td>\n",
       "      <td>1</td>\n",
       "    </tr>\n",
       "    <tr>\n",
       "      <th>4</th>\n",
       "      <td>EAPFTKFDPSCLFPACRDYWT</td>\n",
       "      <td>1</td>\n",
       "    </tr>\n",
       "    <tr>\n",
       "      <th>...</th>\n",
       "      <td>...</td>\n",
       "      <td>...</td>\n",
       "    </tr>\n",
       "    <tr>\n",
       "      <th>15282</th>\n",
       "      <td>PAKDTSSLESCLQTELHLCTE</td>\n",
       "      <td>0</td>\n",
       "    </tr>\n",
       "    <tr>\n",
       "      <th>15283</th>\n",
       "      <td>ESCLQTELHLCTEQPEKEDMT</td>\n",
       "      <td>0</td>\n",
       "    </tr>\n",
       "    <tr>\n",
       "      <th>15284</th>\n",
       "      <td>IERQPSSVSICFESLTTDLEH</td>\n",
       "      <td>0</td>\n",
       "    </tr>\n",
       "    <tr>\n",
       "      <th>15285</th>\n",
       "      <td>IHNTVKIGPDCKEALPDLPSP</td>\n",
       "      <td>0</td>\n",
       "    </tr>\n",
       "    <tr>\n",
       "      <th>15286</th>\n",
       "      <td>ADHKLQVQTVCKAQFTDAGNL</td>\n",
       "      <td>0</td>\n",
       "    </tr>\n",
       "  </tbody>\n",
       "</table>\n",
       "<p>15287 rows × 2 columns</p>\n",
       "</div>"
      ],
      "text/plain": [
       "                         Seq  Label\n",
       "0      AYAREEFASTCPDDEEIELAY      1\n",
       "1      YEVFGRVQGVCFRMYAEDEAR      1\n",
       "2      AWIGYEHTSFCGQQFILERGE      1\n",
       "3      IERLMSFRPICSANHKESKMT      1\n",
       "4      EAPFTKFDPSCLFPACRDYWT      1\n",
       "...                      ...    ...\n",
       "15282  PAKDTSSLESCLQTELHLCTE      0\n",
       "15283  ESCLQTELHLCTEQPEKEDMT      0\n",
       "15284  IERQPSSVSICFESLTTDLEH      0\n",
       "15285  IHNTVKIGPDCKEALPDLPSP      0\n",
       "15286  ADHKLQVQTVCKAQFTDAGNL      0\n",
       "\n",
       "[15287 rows x 2 columns]"
      ]
     },
     "execution_count": 3,
     "metadata": {},
     "output_type": "execute_result"
    }
   ],
   "source": [
    "data"
   ]
  },
  {
   "cell_type": "code",
   "execution_count": 4,
   "id": "cfcb79e5-f504-43be-9cdd-75a1bb9f07c0",
   "metadata": {},
   "outputs": [
    {
     "data": {
      "text/plain": [
       "0    12134\n",
       "1     3153\n",
       "Name: Label, dtype: int64"
      ]
     },
     "execution_count": 4,
     "metadata": {},
     "output_type": "execute_result"
    }
   ],
   "source": [
    "data['Label'].value_counts()"
   ]
  },
  {
   "cell_type": "code",
   "execution_count": 5,
   "id": "32494e71-943e-4dcb-9c18-c6b8b61adf98",
   "metadata": {},
   "outputs": [],
   "source": [
    "data['Seq']=data['Seq'].str.replace('-','')\n",
    "data['Seq']=data['Seq'].str.replace('\\n','')"
   ]
  },
  {
   "cell_type": "code",
   "execution_count": 6,
   "id": "143c1b6d-37ca-4b6e-8580-5e363093c8cc",
   "metadata": {},
   "outputs": [
    {
     "data": {
      "text/html": [
       "<div>\n",
       "<style scoped>\n",
       "    .dataframe tbody tr th:only-of-type {\n",
       "        vertical-align: middle;\n",
       "    }\n",
       "\n",
       "    .dataframe tbody tr th {\n",
       "        vertical-align: top;\n",
       "    }\n",
       "\n",
       "    .dataframe thead th {\n",
       "        text-align: right;\n",
       "    }\n",
       "</style>\n",
       "<table border=\"1\" class=\"dataframe\">\n",
       "  <thead>\n",
       "    <tr style=\"text-align: right;\">\n",
       "      <th></th>\n",
       "      <th>Seq</th>\n",
       "      <th>Label</th>\n",
       "    </tr>\n",
       "  </thead>\n",
       "  <tbody>\n",
       "    <tr>\n",
       "      <th>0</th>\n",
       "      <td>AYAREEFASTCPDDEEIELAY</td>\n",
       "      <td>1</td>\n",
       "    </tr>\n",
       "    <tr>\n",
       "      <th>1</th>\n",
       "      <td>YEVFGRVQGVCFRMYAEDEAR</td>\n",
       "      <td>1</td>\n",
       "    </tr>\n",
       "    <tr>\n",
       "      <th>2</th>\n",
       "      <td>AWIGYEHTSFCGQQFILERGE</td>\n",
       "      <td>1</td>\n",
       "    </tr>\n",
       "    <tr>\n",
       "      <th>3</th>\n",
       "      <td>IERLMSFRPICSANHKESKMT</td>\n",
       "      <td>1</td>\n",
       "    </tr>\n",
       "    <tr>\n",
       "      <th>4</th>\n",
       "      <td>EAPFTKFDPSCLFPACRDYWT</td>\n",
       "      <td>1</td>\n",
       "    </tr>\n",
       "    <tr>\n",
       "      <th>...</th>\n",
       "      <td>...</td>\n",
       "      <td>...</td>\n",
       "    </tr>\n",
       "    <tr>\n",
       "      <th>15282</th>\n",
       "      <td>PAKDTSSLESCLQTELHLCTE</td>\n",
       "      <td>0</td>\n",
       "    </tr>\n",
       "    <tr>\n",
       "      <th>15283</th>\n",
       "      <td>ESCLQTELHLCTEQPEKEDMT</td>\n",
       "      <td>0</td>\n",
       "    </tr>\n",
       "    <tr>\n",
       "      <th>15284</th>\n",
       "      <td>IERQPSSVSICFESLTTDLEH</td>\n",
       "      <td>0</td>\n",
       "    </tr>\n",
       "    <tr>\n",
       "      <th>15285</th>\n",
       "      <td>IHNTVKIGPDCKEALPDLPSP</td>\n",
       "      <td>0</td>\n",
       "    </tr>\n",
       "    <tr>\n",
       "      <th>15286</th>\n",
       "      <td>ADHKLQVQTVCKAQFTDAGNL</td>\n",
       "      <td>0</td>\n",
       "    </tr>\n",
       "  </tbody>\n",
       "</table>\n",
       "<p>15287 rows × 2 columns</p>\n",
       "</div>"
      ],
      "text/plain": [
       "                         Seq  Label\n",
       "0      AYAREEFASTCPDDEEIELAY      1\n",
       "1      YEVFGRVQGVCFRMYAEDEAR      1\n",
       "2      AWIGYEHTSFCGQQFILERGE      1\n",
       "3      IERLMSFRPICSANHKESKMT      1\n",
       "4      EAPFTKFDPSCLFPACRDYWT      1\n",
       "...                      ...    ...\n",
       "15282  PAKDTSSLESCLQTELHLCTE      0\n",
       "15283  ESCLQTELHLCTEQPEKEDMT      0\n",
       "15284  IERQPSSVSICFESLTTDLEH      0\n",
       "15285  IHNTVKIGPDCKEALPDLPSP      0\n",
       "15286  ADHKLQVQTVCKAQFTDAGNL      0\n",
       "\n",
       "[15287 rows x 2 columns]"
      ]
     },
     "execution_count": 6,
     "metadata": {},
     "output_type": "execute_result"
    }
   ],
   "source": [
    "data"
   ]
  },
  {
   "cell_type": "code",
   "execution_count": 7,
   "id": "5645fea7-4562-4dc2-8df9-7a15b85b03c4",
   "metadata": {},
   "outputs": [
    {
     "data": {
      "text/html": [
       "<div>\n",
       "<style scoped>\n",
       "    .dataframe tbody tr th:only-of-type {\n",
       "        vertical-align: middle;\n",
       "    }\n",
       "\n",
       "    .dataframe tbody tr th {\n",
       "        vertical-align: top;\n",
       "    }\n",
       "\n",
       "    .dataframe thead th {\n",
       "        text-align: right;\n",
       "    }\n",
       "</style>\n",
       "<table border=\"1\" class=\"dataframe\">\n",
       "  <thead>\n",
       "    <tr style=\"text-align: right;\">\n",
       "      <th></th>\n",
       "      <th>Uniprot</th>\n",
       "      <th>Seq</th>\n",
       "      <th>Label</th>\n",
       "    </tr>\n",
       "  </thead>\n",
       "  <tbody>\n",
       "    <tr>\n",
       "      <th>0</th>\n",
       "      <td>RPC5_HUMAN_693</td>\n",
       "      <td>QEVDKVLKDCCVSYGGMWYLK</td>\n",
       "      <td>0</td>\n",
       "    </tr>\n",
       "    <tr>\n",
       "      <th>1</th>\n",
       "      <td>LRP1_MOUSE_4237</td>\n",
       "      <td>YTGDKCELDQCWEYCHNGGTC</td>\n",
       "      <td>0</td>\n",
       "    </tr>\n",
       "    <tr>\n",
       "      <th>2</th>\n",
       "      <td>STAB1_MOUSE_909</td>\n",
       "      <td>DGRICVAIDECGLDTRGGCHA</td>\n",
       "      <td>0</td>\n",
       "    </tr>\n",
       "    <tr>\n",
       "      <th>3</th>\n",
       "      <td>FLNC_HUMAN_2454</td>\n",
       "      <td>VHTPSGAVEECYVSELDSDKH</td>\n",
       "      <td>0</td>\n",
       "    </tr>\n",
       "    <tr>\n",
       "      <th>4</th>\n",
       "      <td>LAS1L_HUMAN_173</td>\n",
       "      <td>MPHINDCRRGCYFVLDWLQKT</td>\n",
       "      <td>0</td>\n",
       "    </tr>\n",
       "    <tr>\n",
       "      <th>...</th>\n",
       "      <td>...</td>\n",
       "      <td>...</td>\n",
       "      <td>...</td>\n",
       "    </tr>\n",
       "    <tr>\n",
       "      <th>2233</th>\n",
       "      <td>DHAR1_ARATH_20</td>\n",
       "      <td>AVGAPDHLGDCPFSQRALLTL</td>\n",
       "      <td>1</td>\n",
       "    </tr>\n",
       "    <tr>\n",
       "      <th>2234</th>\n",
       "      <td>HNRPF_HUMAN_290</td>\n",
       "      <td>EFTVQSTTGHCVHMRGLPYKA</td>\n",
       "      <td>1</td>\n",
       "    </tr>\n",
       "    <tr>\n",
       "      <th>2235</th>\n",
       "      <td>HS90B_MOUSE_589</td>\n",
       "      <td>TISNRLVSSPCCIVTSTYGWT</td>\n",
       "      <td>1</td>\n",
       "    </tr>\n",
       "    <tr>\n",
       "      <th>2236</th>\n",
       "      <td>RYR2_MOUSE_822</td>\n",
       "      <td>KFLPPPGYAACYEAVLPKEKL</td>\n",
       "      <td>1</td>\n",
       "    </tr>\n",
       "    <tr>\n",
       "      <th>2237</th>\n",
       "      <td>E7Q9K3_YEASB_258</td>\n",
       "      <td>LDAKTNYPAGCNAMETLLINP</td>\n",
       "      <td>1</td>\n",
       "    </tr>\n",
       "  </tbody>\n",
       "</table>\n",
       "<p>2238 rows × 3 columns</p>\n",
       "</div>"
      ],
      "text/plain": [
       "               Uniprot                    Seq  Label\n",
       "0       RPC5_HUMAN_693  QEVDKVLKDCCVSYGGMWYLK      0\n",
       "1      LRP1_MOUSE_4237  YTGDKCELDQCWEYCHNGGTC      0\n",
       "2      STAB1_MOUSE_909  DGRICVAIDECGLDTRGGCHA      0\n",
       "3      FLNC_HUMAN_2454  VHTPSGAVEECYVSELDSDKH      0\n",
       "4      LAS1L_HUMAN_173  MPHINDCRRGCYFVLDWLQKT      0\n",
       "...                ...                    ...    ...\n",
       "2233    DHAR1_ARATH_20  AVGAPDHLGDCPFSQRALLTL      1\n",
       "2234   HNRPF_HUMAN_290  EFTVQSTTGHCVHMRGLPYKA      1\n",
       "2235   HS90B_MOUSE_589  TISNRLVSSPCCIVTSTYGWT      1\n",
       "2236    RYR2_MOUSE_822  KFLPPPGYAACYEAVLPKEKL      1\n",
       "2237  E7Q9K3_YEASB_258  LDAKTNYPAGCNAMETLLINP      1\n",
       "\n",
       "[2238 rows x 3 columns]"
      ]
     },
     "execution_count": 7,
     "metadata": {},
     "output_type": "execute_result"
    }
   ],
   "source": [
    "benchmark = pd.read_csv('benchmark-unique.csv')\n",
    "benchmark"
   ]
  },
  {
   "cell_type": "code",
   "execution_count": 8,
   "id": "1db1f380-201f-401e-b2ea-431cf0534128",
   "metadata": {},
   "outputs": [
    {
     "data": {
      "text/html": [
       "<div>\n",
       "<style scoped>\n",
       "    .dataframe tbody tr th:only-of-type {\n",
       "        vertical-align: middle;\n",
       "    }\n",
       "\n",
       "    .dataframe tbody tr th {\n",
       "        vertical-align: top;\n",
       "    }\n",
       "\n",
       "    .dataframe thead th {\n",
       "        text-align: right;\n",
       "    }\n",
       "</style>\n",
       "<table border=\"1\" class=\"dataframe\">\n",
       "  <thead>\n",
       "    <tr style=\"text-align: right;\">\n",
       "      <th></th>\n",
       "      <th>Seq</th>\n",
       "      <th>Label</th>\n",
       "    </tr>\n",
       "  </thead>\n",
       "  <tbody>\n",
       "  </tbody>\n",
       "</table>\n",
       "</div>"
      ],
      "text/plain": [
       "Empty DataFrame\n",
       "Columns: [Seq, Label]\n",
       "Index: []"
      ]
     },
     "execution_count": 8,
     "metadata": {},
     "output_type": "execute_result"
    }
   ],
   "source": [
    "benchmark['Seq']=benchmark['Seq'].str.replace('-','')\n",
    "benchmark['Seq']=benchmark['Seq'].str.replace('\\n','')\n",
    "\n",
    "common_seqs = data['Seq'].isin(benchmark['Seq'])\n",
    "data = data[common_seqs]\n",
    "data"
   ]
  },
  {
   "cell_type": "code",
   "execution_count": 7,
   "id": "08ddc2ed-f76d-472f-9a33-7a22a309b448",
   "metadata": {},
   "outputs": [
    {
     "name": "stderr",
     "output_type": "stream",
     "text": [
      "Special tokens have been added in the vocabulary, make sure the associated word embeddings are fine-tuned or trained.\n"
     ]
    }
   ],
   "source": [
    "# tokenizer = AutoTokenizer.from_pretrained('nferruz/ProtGPT2')\n",
    "tokenizer = AutoTokenizer.from_pretrained('nferruz/ProtGPT2',bos_token='<startoftext>',eos_token='<endoftext>',pad_token='<PAD>')"
   ]
  },
  {
   "cell_type": "code",
   "execution_count": 8,
   "id": "f03bd472-bb93-44f6-81f5-830e8a9c7e94",
   "metadata": {},
   "outputs": [
    {
     "data": {
      "text/plain": [
       "4"
      ]
     },
     "execution_count": 8,
     "metadata": {},
     "output_type": "execute_result"
    }
   ],
   "source": [
    "tokenizer.add_tokens(['SEQUENCE:','LABEL:','POSITIVE','NEGATIVE'])"
   ]
  },
  {
   "cell_type": "code",
   "execution_count": 9,
   "id": "5de038a1-673b-4c49-b21c-b0dd636f3db7",
   "metadata": {},
   "outputs": [
    {
     "data": {
      "text/plain": [
       "{'bos_token': '<startoftext>',\n",
       " 'eos_token': '<endoftext>',\n",
       " 'unk_token': '<|endoftext|>',\n",
       " 'pad_token': '<PAD>'}"
      ]
     },
     "execution_count": 9,
     "metadata": {},
     "output_type": "execute_result"
    }
   ],
   "source": [
    "tokenizer.special_tokens_map"
   ]
  },
  {
   "cell_type": "code",
   "execution_count": 10,
   "id": "609a14ea-57cb-4be1-927b-60210c81e689",
   "metadata": {},
   "outputs": [
    {
     "data": {
      "text/plain": [
       "[0, 44285, 9903, 277, 1047, 265, 570, 44795, 17, 0]"
      ]
     },
     "execution_count": 10,
     "metadata": {},
     "output_type": "execute_result"
    }
   ],
   "source": [
    "tokenizer.encode('<|endoftext|>ESAKTIVDSGKLPSSLLSYFV1<|endoftext|>',add_special_tokens=True)"
   ]
  },
  {
   "cell_type": "code",
   "execution_count": 11,
   "id": "f526869d-579a-43d4-9262-789ae4035983",
   "metadata": {},
   "outputs": [],
   "source": [
    "class SequenceClassificationDataset(Dataset):\n",
    "    def __init__(self, sequences, labels, tokenizer,dtype='Train'):\n",
    "        self.sequences = sequences\n",
    "        self.labels = labels\n",
    "        self.tokenizer = tokenizer\n",
    "        self.map_label={1:'POSITIVE',0:'NEGATIVE'}\n",
    "        self.dtype='Train'\n",
    "    def __len__(self):\n",
    "        return len(self.sequences)\n",
    "\n",
    "    def __getitem__(self, idx):\n",
    "        sequence = self.sequences[idx]\n",
    "        label = self.labels[idx]\n",
    "        prep_txt1= f'<startoftext>SEQUENCE:{sequence}\\nLABEL:{self.map_label[label]}<endoftext>'\n",
    "        prep_txt2= f'<startoftext>SEQUENCE:{sequence}\\nLABEL:<endoftext>'\n",
    "        encoding1 = self.tokenizer(prep_txt1,return_tensors='pt')\n",
    "        encoding2 = self.tokenizer(prep_txt2,return_tensors='pt')\n",
    "        return {\n",
    "            'input_ids': encoding1['input_ids'].squeeze(), \n",
    "            'attention_mask': encoding1['attention_mask'].squeeze(), \n",
    "            'labels': encoding1['input_ids'].squeeze()\n",
    "        } if self.dtype=='Train' else {\n",
    "            'input_ids': encoding2['input_ids'].squeeze(), \n",
    "            'attention_mask': encoding2['attention_mask'].squeeze(), \n",
    "            'labels': encoding1['input_ids'].squeeze()\n",
    "        }"
   ]
  },
  {
   "cell_type": "code",
   "execution_count": 12,
   "id": "0575d48c-856d-4b30-bfb1-49d1cc9fa4bf",
   "metadata": {},
   "outputs": [],
   "source": [
    "train_texts=data['Seq'].reset_index(drop=True)\n",
    "train_labels=data['Label'].reset_index(drop=True)"
   ]
  },
  {
   "cell_type": "code",
   "execution_count": 13,
   "id": "fed854e7-1e86-44c6-8522-14372e537a1e",
   "metadata": {},
   "outputs": [],
   "source": [
    "train_dataset=SequenceClassificationDataset(train_texts,train_labels,tokenizer,'Train')"
   ]
  },
  {
   "cell_type": "code",
   "execution_count": 14,
   "id": "a6f3b213-2ad4-4090-832e-1e254655613e",
   "metadata": {},
   "outputs": [],
   "source": [
    "model_config = GPT2Config.from_pretrained('nferruz/ProtGPT2')"
   ]
  },
  {
   "cell_type": "code",
   "execution_count": 15,
   "id": "3d768994-5197-490d-a3d4-5b1669fedbc9",
   "metadata": {},
   "outputs": [],
   "source": [
    "training_args = TrainingArguments(\n",
    "    output_dir='/media/8TB_hardisk/results-glutarylation-dbptm/',  # output directory\n",
    "    num_train_epochs=200,  # total number of training epochs\n",
    "    per_device_train_batch_size=128,  # batch size per device during training\n",
    "    per_device_eval_batch_size=128,  # batch size for evaluation\n",
    "    warmup_steps=500,  # number of warmup steps for learning rate scheduler\n",
    "    weight_decay=0.01,  # strength of weight decay\n",
    "    logging_dir='logs/',\n",
    "    save_steps=500,\n",
    "    # eval_steps=500,\n",
    "    logging_steps=500,\n",
    "    # evaluation_strategy='steps',\n",
    "    # save_total_limit=1,\n",
    "    # metric_for_best_model='eval_loss',\n",
    "    # load_best_model_at_end=True\n",
    ")"
   ]
  },
  {
   "cell_type": "code",
   "execution_count": 16,
   "id": "28fec329-ee5c-4e79-8bd0-0258309ada1d",
   "metadata": {},
   "outputs": [],
   "source": [
    "import torch"
   ]
  },
  {
   "cell_type": "code",
   "execution_count": 17,
   "id": "0df798b7-1c96-4e7b-ba97-f30cc346c112",
   "metadata": {},
   "outputs": [
    {
     "data": {
      "text/plain": [
       "Embedding(50264, 1280)"
      ]
     },
     "execution_count": 17,
     "metadata": {},
     "output_type": "execute_result"
    }
   ],
   "source": [
    "model = GPT2LMHeadModel.from_pretrained('nferruz/ProtGPT2',config=model_config,ignore_mismatched_sizes=True)\n",
    "model.resize_token_embeddings(len(tokenizer))"
   ]
  },
  {
   "cell_type": "code",
   "execution_count": 18,
   "id": "8a0bebae-de4c-4475-b2cf-2d5419f07de4",
   "metadata": {
    "scrolled": true,
    "tags": []
   },
   "outputs": [],
   "source": [
    "trainer = Trainer(\n",
    "    model=model,\n",
    "    args=training_args,\n",
    "    train_dataset=train_dataset,\n",
    "    # eval_dataset=test_dataset,\n",
    "    data_collator=DataCollatorForSeq2Seq(tokenizer=tokenizer,padding='longest'),\n",
    "    # callbacks=[early_stop],\n",
    "    # model_init=model_init\n",
    ")"
   ]
  },
  {
   "cell_type": "code",
   "execution_count": 19,
   "id": "3a7cf890-5363-49ec-b5dc-3a68cfa3493c",
   "metadata": {
    "scrolled": true,
    "tags": []
   },
   "outputs": [
    {
     "name": "stderr",
     "output_type": "stream",
     "text": [
      "/home/jeevan/anaconda3/envs/succi/lib/python3.11/site-packages/transformers/optimization.py:407: FutureWarning: This implementation of AdamW is deprecated and will be removed in a future version. Use the PyTorch implementation torch.optim.AdamW instead, or set `no_deprecation_warning=True` to disable this warning\n",
      "  warnings.warn(\n",
      "You're using a GPT2TokenizerFast tokenizer. Please note that with a fast tokenizer, using the `__call__` method is faster than using a method to encode the text followed by a call to the `pad` method to get a padded encoding.\n"
     ]
    },
    {
     "data": {
      "text/html": [
       "\n",
       "    <div>\n",
       "      \n",
       "      <progress value='5600' max='5600' style='width:300px; height:20px; vertical-align: middle;'></progress>\n",
       "      [5600/5600 5:50:55, Epoch 200/200]\n",
       "    </div>\n",
       "    <table border=\"1\" class=\"dataframe\">\n",
       "  <thead>\n",
       " <tr style=\"text-align: left;\">\n",
       "      <th>Step</th>\n",
       "      <th>Training Loss</th>\n",
       "    </tr>\n",
       "  </thead>\n",
       "  <tbody>\n",
       "    <tr>\n",
       "      <td>500</td>\n",
       "      <td>5.941600</td>\n",
       "    </tr>\n",
       "    <tr>\n",
       "      <td>1000</td>\n",
       "      <td>2.686500</td>\n",
       "    </tr>\n",
       "    <tr>\n",
       "      <td>1500</td>\n",
       "      <td>1.229900</td>\n",
       "    </tr>\n",
       "    <tr>\n",
       "      <td>2000</td>\n",
       "      <td>0.862300</td>\n",
       "    </tr>\n",
       "    <tr>\n",
       "      <td>2500</td>\n",
       "      <td>0.782300</td>\n",
       "    </tr>\n",
       "    <tr>\n",
       "      <td>3000</td>\n",
       "      <td>0.744000</td>\n",
       "    </tr>\n",
       "    <tr>\n",
       "      <td>3500</td>\n",
       "      <td>0.726900</td>\n",
       "    </tr>\n",
       "    <tr>\n",
       "      <td>4000</td>\n",
       "      <td>0.716900</td>\n",
       "    </tr>\n",
       "    <tr>\n",
       "      <td>4500</td>\n",
       "      <td>0.710600</td>\n",
       "    </tr>\n",
       "    <tr>\n",
       "      <td>5000</td>\n",
       "      <td>0.706800</td>\n",
       "    </tr>\n",
       "    <tr>\n",
       "      <td>5500</td>\n",
       "      <td>0.703800</td>\n",
       "    </tr>\n",
       "  </tbody>\n",
       "</table><p>"
      ],
      "text/plain": [
       "<IPython.core.display.HTML object>"
      ]
     },
     "metadata": {},
     "output_type": "display_data"
    },
    {
     "data": {
      "text/plain": [
       "TrainOutput(global_step=5600, training_loss=1.4243123463221958, metrics={'train_runtime': 21061.9244, 'train_samples_per_second': 33.435, 'train_steps_per_second': 0.266, 'total_flos': 4.49621025667584e+16, 'train_loss': 1.4243123463221958, 'epoch': 200.0})"
      ]
     },
     "execution_count": 19,
     "metadata": {},
     "output_type": "execute_result"
    }
   ],
   "source": [
    "trainer.train()"
   ]
  },
  {
   "cell_type": "code",
   "execution_count": null,
   "id": "b9b9d597-57f6-4594-8613-f64a0ad12f1b",
   "metadata": {},
   "outputs": [],
   "source": []
  }
 ],
 "metadata": {
  "kernelspec": {
   "display_name": "Python 3 (ipykernel)",
   "language": "python",
   "name": "python3"
  },
  "language_info": {
   "codemirror_mode": {
    "name": "ipython",
    "version": 3
   },
   "file_extension": ".py",
   "mimetype": "text/x-python",
   "name": "python",
   "nbconvert_exporter": "python",
   "pygments_lexer": "ipython3",
   "version": "3.11.3"
  }
 },
 "nbformat": 4,
 "nbformat_minor": 5
}
