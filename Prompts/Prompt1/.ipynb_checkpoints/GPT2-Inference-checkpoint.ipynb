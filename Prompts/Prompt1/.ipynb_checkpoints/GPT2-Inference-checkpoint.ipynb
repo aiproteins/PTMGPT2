{
 "cells": [
  {
   "cell_type": "code",
   "execution_count": 1,
   "id": "db852cb5-4917-475e-9174-82c06c0e4338",
   "metadata": {},
   "outputs": [
    {
     "name": "stderr",
     "output_type": "stream",
     "text": [
      "/home/jeevan/anaconda3/envs/succi/lib/python3.11/site-packages/tqdm/auto.py:21: TqdmWarning: IProgress not found. Please update jupyter and ipywidgets. See https://ipywidgets.readthedocs.io/en/stable/user_install.html\n",
      "  from .autonotebook import tqdm as notebook_tqdm\n"
     ]
    }
   ],
   "source": [
    "#Import necessary libraries\n",
    "import os\n",
    "import torch\n",
    "import evaluate\n",
    "import numpy as np\n",
    "import pandas as pd\n",
    "import torch.nn.functional as F\n",
    "from torch.utils.data import DataLoader,Dataset\n",
    "from sklearn.model_selection import StratifiedShuffleSplit\n",
    "from transformers import DataCollatorWithPadding,DataCollatorForSeq2Seq\n",
    "from transformers import AutoTokenizer, GPT2LMHeadModel,TrainingArguments, Trainer,GPT2Config,EarlyStoppingCallback\n",
    "from sklearn.metrics import average_precision_score,matthews_corrcoef,f1_score, precision_score, recall_score, balanced_accuracy_score"
   ]
  },
  {
   "cell_type": "code",
   "execution_count": null,
   "id": "68ca789e-76be-4fa4-bf84-57a020df98be",
   "metadata": {},
   "outputs": [],
   "source": [
    "#Use GPU else specify '-1' for CPU\n",
    "os.environ[\"CUDA_VISIBLE_DEVICES\"]=\"0\""
   ]
  },
  {
   "cell_type": "code",
   "execution_count": 2,
   "id": "08ddc2ed-f76d-472f-9a33-7a22a309b448",
   "metadata": {},
   "outputs": [
    {
     "name": "stderr",
     "output_type": "stream",
     "text": [
      "Special tokens have been added in the vocabulary, make sure the associated word embeddings are fine-tuned or trained.\n"
     ]
    }
   ],
   "source": [
    "#Initialize tokenizer\n",
    "tokenizer = AutoTokenizer.from_pretrained('nferruz/ProtGPT2',bos_token='<startoftext>',eos_token='<endoftext>',pad_token='<PAD>')"
   ]
  },
  {
   "cell_type": "code",
   "execution_count": 3,
   "id": "f44dfd1a-6f97-4e31-bf10-7c8aa2b947a6",
   "metadata": {},
   "outputs": [
    {
     "data": {
      "text/plain": [
       "4"
      ]
     },
     "execution_count": 3,
     "metadata": {},
     "output_type": "execute_result"
    }
   ],
   "source": [
    "#Add custom tokens\n",
    "tokenizer.add_tokens(['SEQUENCE:','LABEL:','POSITIVE','NEGATIVE'])"
   ]
  },
  {
   "cell_type": "code",
   "execution_count": 4,
   "id": "f526869d-579a-43d4-9262-789ae4035983",
   "metadata": {},
   "outputs": [],
   "source": [
    "#Map positive/negative labels and prepare prompt for inference\n",
    "class SequenceClassificationDataset(Dataset):\n",
    "    def __init__(self, sequences, labels, tokenizer):\n",
    "        self.sequences = sequences\n",
    "        self.labels = labels\n",
    "        self.tokenizer = tokenizer\n",
    "        self.map_label={0:'NEGATIVE',1:'POSITIVE'}\n",
    "    def __len__(self):\n",
    "        return len(self.sequences)\n",
    "\n",
    "    def __getitem__(self, idx):\n",
    "        sequence = self.sequences[idx]\n",
    "        label = self.labels[idx]\n",
    "        prep_txt= f'<startoftext>SEQUENCE:{sequence}\\nLABEL:'\n",
    "        encoding = self.tokenizer(prep_txt,return_tensors='pt')\n",
    "        return  {\n",
    "            'input_ids': encoding['input_ids'].squeeze(), \n",
    "            'attention_mask': encoding['attention_mask'].squeeze(), \n",
    "            'label': label\n",
    "        }"
   ]
  },
  {
   "cell_type": "code",
   "execution_count": 5,
   "id": "0575d48c-856d-4b30-bfb1-49d1cc9fa4bf",
   "metadata": {},
   "outputs": [],
   "source": [
    "#Load benchmark dataset\n",
    "data=pd.read_csv('benchmark.csv')"
   ]
  },
  {
   "cell_type": "code",
   "execution_count": 6,
   "id": "7836c399-2b20-4ad2-9228-e58b8f9271f2",
   "metadata": {},
   "outputs": [],
   "source": [
    "data['Seq']=data['Seq'].str.replace('\\n','')"
   ]
  },
  {
   "cell_type": "code",
   "execution_count": 7,
   "id": "e1d4625a-a3fb-4343-a1e9-2b7e868074fc",
   "metadata": {},
   "outputs": [],
   "source": [
    "data['Seq']=data['Seq'].str.replace('-','')"
   ]
  },
  {
   "cell_type": "code",
   "execution_count": 8,
   "id": "9fa94494-c8f7-4147-ae56-5a8405ff22c8",
   "metadata": {},
   "outputs": [
    {
     "data": {
      "text/html": [
       "<div>\n",
       "<style scoped>\n",
       "    .dataframe tbody tr th:only-of-type {\n",
       "        vertical-align: middle;\n",
       "    }\n",
       "\n",
       "    .dataframe tbody tr th {\n",
       "        vertical-align: top;\n",
       "    }\n",
       "\n",
       "    .dataframe thead th {\n",
       "        text-align: right;\n",
       "    }\n",
       "</style>\n",
       "<table border=\"1\" class=\"dataframe\">\n",
       "  <thead>\n",
       "    <tr style=\"text-align: right;\">\n",
       "      <th></th>\n",
       "      <th>Uniprot</th>\n",
       "      <th>Seq</th>\n",
       "      <th>Label</th>\n",
       "    </tr>\n",
       "  </thead>\n",
       "  <tbody>\n",
       "    <tr>\n",
       "      <th>0</th>\n",
       "      <td>RPC5_HUMAN_693</td>\n",
       "      <td>QEVDKVLKDCCVSYGGMWYLK</td>\n",
       "      <td>0</td>\n",
       "    </tr>\n",
       "    <tr>\n",
       "      <th>1</th>\n",
       "      <td>LRP1_MOUSE_4237</td>\n",
       "      <td>YTGDKCELDQCWEYCHNGGTC</td>\n",
       "      <td>0</td>\n",
       "    </tr>\n",
       "    <tr>\n",
       "      <th>2</th>\n",
       "      <td>STAB1_MOUSE_909</td>\n",
       "      <td>DGRICVAIDECGLDTRGGCHA</td>\n",
       "      <td>0</td>\n",
       "    </tr>\n",
       "    <tr>\n",
       "      <th>3</th>\n",
       "      <td>FLNC_HUMAN_2454</td>\n",
       "      <td>VHTPSGAVEECYVSELDSDKH</td>\n",
       "      <td>0</td>\n",
       "    </tr>\n",
       "    <tr>\n",
       "      <th>4</th>\n",
       "      <td>LAS1L_HUMAN_173</td>\n",
       "      <td>MPHINDCRRGCYFVLDWLQKT</td>\n",
       "      <td>0</td>\n",
       "    </tr>\n",
       "    <tr>\n",
       "      <th>...</th>\n",
       "      <td>...</td>\n",
       "      <td>...</td>\n",
       "      <td>...</td>\n",
       "    </tr>\n",
       "    <tr>\n",
       "      <th>2233</th>\n",
       "      <td>DHAR1_ARATH_20</td>\n",
       "      <td>AVGAPDHLGDCPFSQRALLTL</td>\n",
       "      <td>1</td>\n",
       "    </tr>\n",
       "    <tr>\n",
       "      <th>2234</th>\n",
       "      <td>HNRPF_HUMAN_290</td>\n",
       "      <td>EFTVQSTTGHCVHMRGLPYKA</td>\n",
       "      <td>1</td>\n",
       "    </tr>\n",
       "    <tr>\n",
       "      <th>2235</th>\n",
       "      <td>HS90B_MOUSE_589</td>\n",
       "      <td>TISNRLVSSPCCIVTSTYGWT</td>\n",
       "      <td>1</td>\n",
       "    </tr>\n",
       "    <tr>\n",
       "      <th>2236</th>\n",
       "      <td>RYR2_MOUSE_822</td>\n",
       "      <td>KFLPPPGYAACYEAVLPKEKL</td>\n",
       "      <td>1</td>\n",
       "    </tr>\n",
       "    <tr>\n",
       "      <th>2237</th>\n",
       "      <td>E7Q9K3_YEASB_258</td>\n",
       "      <td>LDAKTNYPAGCNAMETLLINP</td>\n",
       "      <td>1</td>\n",
       "    </tr>\n",
       "  </tbody>\n",
       "</table>\n",
       "<p>2238 rows × 3 columns</p>\n",
       "</div>"
      ],
      "text/plain": [
       "               Uniprot                    Seq  Label\n",
       "0       RPC5_HUMAN_693  QEVDKVLKDCCVSYGGMWYLK      0\n",
       "1      LRP1_MOUSE_4237  YTGDKCELDQCWEYCHNGGTC      0\n",
       "2      STAB1_MOUSE_909  DGRICVAIDECGLDTRGGCHA      0\n",
       "3      FLNC_HUMAN_2454  VHTPSGAVEECYVSELDSDKH      0\n",
       "4      LAS1L_HUMAN_173  MPHINDCRRGCYFVLDWLQKT      0\n",
       "...                ...                    ...    ...\n",
       "2233    DHAR1_ARATH_20  AVGAPDHLGDCPFSQRALLTL      1\n",
       "2234   HNRPF_HUMAN_290  EFTVQSTTGHCVHMRGLPYKA      1\n",
       "2235   HS90B_MOUSE_589  TISNRLVSSPCCIVTSTYGWT      1\n",
       "2236    RYR2_MOUSE_822  KFLPPPGYAACYEAVLPKEKL      1\n",
       "2237  E7Q9K3_YEASB_258  LDAKTNYPAGCNAMETLLINP      1\n",
       "\n",
       "[2238 rows x 3 columns]"
      ]
     },
     "execution_count": 8,
     "metadata": {},
     "output_type": "execute_result"
    }
   ],
   "source": [
    "data"
   ]
  },
  {
   "cell_type": "code",
   "execution_count": 9,
   "id": "c1ca66e7-28a7-48f9-b020-5a5175dada02",
   "metadata": {},
   "outputs": [
    {
     "data": {
      "text/plain": [
       "0    1736\n",
       "1     502\n",
       "Name: Label, dtype: int64"
      ]
     },
     "execution_count": 9,
     "metadata": {},
     "output_type": "execute_result"
    }
   ],
   "source": [
    "data['Label'].value_counts()"
   ]
  },
  {
   "cell_type": "code",
   "execution_count": 14,
   "id": "09870a8e-f093-4129-9020-c239daf7924f",
   "metadata": {},
   "outputs": [],
   "source": [
    "test_texts=data['Seq']\n",
    "test_labels =data['Label']"
   ]
  },
  {
   "cell_type": "code",
   "execution_count": 15,
   "id": "b1fdc91e-9238-469d-bb3d-8ef666e67ed1",
   "metadata": {},
   "outputs": [],
   "source": [
    "test_dataset=SequenceClassificationDataset(test_texts,test_labels,tokenizer)"
   ]
  },
  {
   "cell_type": "code",
   "execution_count": 16,
   "id": "4cc59ddc-20c4-460e-852c-87cdf3e599e4",
   "metadata": {},
   "outputs": [],
   "source": [
    "test_data_loder= DataLoader(test_dataset,collate_fn=DataCollatorForSeq2Seq(tokenizer=tokenizer,padding=True),batch_size=1)"
   ]
  },
  {
   "cell_type": "code",
   "execution_count": 14,
   "id": "7e03b7d1-f954-46a7-b9b5-10a719cbe9d0",
   "metadata": {},
   "outputs": [],
   "source": [
    "map_label={0:'NEGATIVE',1:'POSITIVE'}"
   ]
  },
  {
   "cell_type": "code",
   "execution_count": null,
   "id": "85664147-eb97-4382-9132-83ad668597e0",
   "metadata": {},
   "outputs": [],
   "source": [
    "def get_score(mdl_path):\n",
    "    model_config = GPT2Config.from_pretrained(mdl_path)\n",
    "    model = GPT2LMHeadModel.from_pretrained(mdl_path,config=model_config,ignore_mismatched_sizes=True)\n",
    "    model=model.cuda().eval()\n",
    "    predition=[]\n",
    "    for i,x in enumerate(test_data_loder):\n",
    "        Actual=f\"{tokenizer.decode(x['input_ids'][0],skip_special_tokens=True)} {x['label']}\"\n",
    "        generated=x['input_ids'].cuda()\n",
    "        sample_outputs=model.generate(generated,attention_mask=x['attention_mask'].cuda(),do_sample=False,top_k=50,max_new_tokens=2,top_p=0.15,temperature=0.1,num_return_sequences=0,pad_token_id=tokenizer.eos_token_id)\n",
    "        predicted_text=tokenizer.decode(sample_outputs[0],skip_special_tokens=True)\n",
    "        predicted_text.split('LABEL:')[-1]\n",
    "        predition+=[[map_label[int(x.pop('label'))],predicted_text.split('LABEL:')[-1]]]\n",
    "    labels=[[0 if y=='NEGATIVE' else 1  for y in x] for x in predition]\n",
    "    labels=np.asanyarray(labels)\n",
    "    actual=labels[:,0]\n",
    "    pred=labels[:,1]\n",
    "    return f1_score(actual,pred),matthews_corrcoef(actual,pred), precision_score(actual,pred), recall_score(actual, pred), average_precision_score(actual,pred)"
   ]
  },
  {
   "cell_type": "code",
   "execution_count": null,
   "id": "5469f289-ae86-4b6d-b76d-fe1f36364bc6",
   "metadata": {
    "scrolled": true,
    "tags": []
   },
   "outputs": [],
   "source": [
    "#replace the path with best performing checkpoint\n",
    "get_score('checkpoint-22500/')"
   ]
  },
  {
   "cell_type": "markdown",
   "id": "1a9bd171-0270-4740-b5d8-b59576f6776c",
   "metadata": {},
   "source": [
    "# Check the best performing checkpoint in the benchmark dataset"
   ]
  },
  {
   "cell_type": "code",
   "execution_count": 18,
   "id": "4c4d0bcd-bc8d-45db-bfd0-2bf6f58eac25",
   "metadata": {},
   "outputs": [],
   "source": [
    "results=[]"
   ]
  },
  {
   "cell_type": "code",
   "execution_count": null,
   "id": "b0bf4fc2-5ffb-459b-a29a-d1f2e8cbfb54",
   "metadata": {
    "scrolled": true,
    "tags": []
   },
   "outputs": [],
   "source": [
    "#Replace the path with the output directory used during model training\n",
    "for mdl in os.listdir('/media/8TB_hardisk/results-Prompt1/'):\n",
    "    if 'checkpoint' in mdl:\n",
    "        mdl_path='/media/8TB_hardisk/results-Prompt1/'+mdl\n",
    "        f1,mcc,prc,rec,avg=get_score(mdl_path)\n",
    "        with open('results-Prompt1.csv','a') as f:\n",
    "            f.write(f'{mdl},{f1},{mcc},{prc},{rec},{avg}\\n')"
   ]
  }
 ],
 "metadata": {
  "kernelspec": {
   "display_name": "Python 3 (ipykernel)",
   "language": "python",
   "name": "python3"
  },
  "language_info": {
   "codemirror_mode": {
    "name": "ipython",
    "version": 3
   },
   "file_extension": ".py",
   "mimetype": "text/x-python",
   "name": "python",
   "nbconvert_exporter": "python",
   "pygments_lexer": "ipython3",
   "version": "3.11.3"
  }
 },
 "nbformat": 4,
 "nbformat_minor": 5
}
