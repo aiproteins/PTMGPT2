{
 "cells": [
  {
   "cell_type": "code",
   "execution_count": 1,
   "id": "db852cb5-4917-475e-9174-82c06c0e4338",
   "metadata": {},
   "outputs": [
    {
     "name": "stderr",
     "output_type": "stream",
     "text": [
      "/home/jeevan/anaconda3/envs/succi/lib/python3.11/site-packages/tqdm/auto.py:21: TqdmWarning: IProgress not found. Please update jupyter and ipywidgets. See https://ipywidgets.readthedocs.io/en/stable/user_install.html\n",
      "  from .autonotebook import tqdm as notebook_tqdm\n"
     ]
    }
   ],
   "source": [
    "#Import necessary libraries\n",
    "import os\n",
    "import torch\n",
    "import evaluate\n",
    "import numpy as np\n",
    "import pandas as pd\n",
    "import torch.nn.functional as F\n",
    "from torch.utils.data import DataLoader,Dataset\n",
    "from sklearn.model_selection import StratifiedShuffleSplit\n",
    "from transformers import DataCollatorWithPadding,DataCollatorForSeq2Seq\n",
    "from transformers import AutoTokenizer, GPT2LMHeadModel,TrainingArguments, Trainer,GPT2Config,EarlyStoppingCallback\n",
    "from sklearn.metrics import average_precision_score,matthews_corrcoef,f1_score, precision_score, recall_score, balanced_accuracy_score"
   ]
  },
  {
   "cell_type": "code",
   "execution_count": null,
   "id": "058774e5-b799-4c6b-a7d5-5aa95e32f35f",
   "metadata": {},
   "outputs": [],
   "source": [
    "#Use GPU else specify '-1' for CPU\n",
    "os.environ[\"CUDA_VISIBLE_DEVICES\"]=\"0\""
   ]
  },
  {
   "cell_type": "code",
   "execution_count": 2,
   "id": "08ddc2ed-f76d-472f-9a33-7a22a309b448",
   "metadata": {},
   "outputs": [
    {
     "name": "stderr",
     "output_type": "stream",
     "text": [
      "Special tokens have been added in the vocabulary, make sure the associated word embeddings are fine-tuned or trained.\n"
     ]
    }
   ],
   "source": [
    "#Initialize tokenizer\n",
    "tokenizer = AutoTokenizer.from_pretrained('nferruz/ProtGPT2',bos_token='<startoftext>',eos_token='<endoftext>',pad_token='<PAD>')"
   ]
  },
  {
   "cell_type": "code",
   "execution_count": 3,
   "id": "f44dfd1a-6f97-4e31-bf10-7c8aa2b947a6",
   "metadata": {},
   "outputs": [
    {
     "data": {
      "text/plain": [
       "2"
      ]
     },
     "execution_count": 3,
     "metadata": {},
     "output_type": "execute_result"
    }
   ],
   "source": [
    "#Add custom tokens\n",
    "tokenizer.add_tokens(['POSITIVE','NEGATIVE'])"
   ]
  },
  {
   "cell_type": "code",
   "execution_count": 5,
   "id": "f526869d-579a-43d4-9262-789ae4035983",
   "metadata": {},
   "outputs": [],
   "source": [
    "#Map positive/negative labels and prepare prompt for inference\n",
    "class SequenceClassificationDataset(Dataset):\n",
    "    def __init__(self, sequences, labels, tokenizer):\n",
    "        self.sequences = sequences\n",
    "        self.labels = labels\n",
    "        self.tokenizer = tokenizer\n",
    "        self.map_label={0:'NEGATIVE',1:'POSITIVE'}\n",
    "    def __len__(self):\n",
    "        return len(self.sequences)\n",
    "\n",
    "    def __getitem__(self, idx):\n",
    "        sequence = self.sequences[idx]\n",
    "        label = self.labels[idx]\n",
    "        prep_txt= f'<startoftext>{sequence}\\n'\n",
    "        encoding = self.tokenizer(prep_txt,return_tensors='pt')\n",
    "        return  {\n",
    "            'input_ids': encoding['input_ids'].squeeze(), \n",
    "            'attention_mask': encoding['attention_mask'].squeeze(), \n",
    "            'label': label\n",
    "        }"
   ]
  },
  {
   "cell_type": "code",
   "execution_count": 6,
   "id": "0575d48c-856d-4b30-bfb1-49d1cc9fa4bf",
   "metadata": {},
   "outputs": [],
   "source": [
    "#Load benchmark dataset\n",
    "data=pd.read_csv('benchmark.csv')"
   ]
  },
  {
   "cell_type": "code",
   "execution_count": 7,
   "id": "7836c399-2b20-4ad2-9228-e58b8f9271f2",
   "metadata": {},
   "outputs": [],
   "source": [
    "data['Seq']=data['Seq'].str.replace('\\n','')"
   ]
  },
  {
   "cell_type": "code",
   "execution_count": 8,
   "id": "e1d4625a-a3fb-4343-a1e9-2b7e868074fc",
   "metadata": {},
   "outputs": [],
   "source": [
    "data['Seq']=data['Seq'].str.replace('-','')"
   ]
  },
  {
   "cell_type": "code",
   "execution_count": 9,
   "id": "0c79a8ed-48b3-4318-a50d-1ab86f498a89",
   "metadata": {},
   "outputs": [
    {
     "data": {
      "text/html": [
       "<div>\n",
       "<style scoped>\n",
       "    .dataframe tbody tr th:only-of-type {\n",
       "        vertical-align: middle;\n",
       "    }\n",
       "\n",
       "    .dataframe tbody tr th {\n",
       "        vertical-align: top;\n",
       "    }\n",
       "\n",
       "    .dataframe thead th {\n",
       "        text-align: right;\n",
       "    }\n",
       "</style>\n",
       "<table border=\"1\" class=\"dataframe\">\n",
       "  <thead>\n",
       "    <tr style=\"text-align: right;\">\n",
       "      <th></th>\n",
       "      <th>Uniprot</th>\n",
       "      <th>Seq</th>\n",
       "      <th>Label</th>\n",
       "    </tr>\n",
       "  </thead>\n",
       "  <tbody>\n",
       "    <tr>\n",
       "      <th>0</th>\n",
       "      <td>B7Z2C9_HUMAN_234</td>\n",
       "      <td>AYDSEVPSCHSIYMRQEGFLA</td>\n",
       "      <td>0</td>\n",
       "    </tr>\n",
       "    <tr>\n",
       "      <th>1</th>\n",
       "      <td>HDAC5_MOUSE_790</td>\n",
       "      <td>DTVWNEMHSSSAVRMAVGCLV</td>\n",
       "      <td>0</td>\n",
       "    </tr>\n",
       "    <tr>\n",
       "      <th>2</th>\n",
       "      <td>B3KS38_HUMAN_94</td>\n",
       "      <td>GFVFKMPWKPTHPSSTHALAE</td>\n",
       "      <td>0</td>\n",
       "    </tr>\n",
       "    <tr>\n",
       "      <th>3</th>\n",
       "      <td>IP3KA_MOUSE_156</td>\n",
       "      <td>RSRGNVQLETSEDVGQKSHWQ</td>\n",
       "      <td>0</td>\n",
       "    </tr>\n",
       "    <tr>\n",
       "      <th>4</th>\n",
       "      <td>MDC1_HUMAN_1314</td>\n",
       "      <td>KPTSRTTRSRTNMSSVKTPET</td>\n",
       "      <td>0</td>\n",
       "    </tr>\n",
       "    <tr>\n",
       "      <th>...</th>\n",
       "      <td>...</td>\n",
       "      <td>...</td>\n",
       "      <td>...</td>\n",
       "    </tr>\n",
       "    <tr>\n",
       "      <th>55703</th>\n",
       "      <td>ICP0_HHV11_67</td>\n",
       "      <td>DSASEADSTDTELFETGLLGP</td>\n",
       "      <td>1</td>\n",
       "    </tr>\n",
       "    <tr>\n",
       "      <th>55704</th>\n",
       "      <td>CAC1C_RABIT_1842</td>\n",
       "      <td>VRAQEAAWKLSSKRCHSQESQ</td>\n",
       "      <td>1</td>\n",
       "    </tr>\n",
       "    <tr>\n",
       "      <th>55705</th>\n",
       "      <td>Q9PU52_CHICK_46</td>\n",
       "      <td>LARSSSGSAFSPYPGSAAFTA</td>\n",
       "      <td>1</td>\n",
       "    </tr>\n",
       "    <tr>\n",
       "      <th>55706</th>\n",
       "      <td>MDM2_HUMAN_351</td>\n",
       "      <td>ISEKAKLENSTQAEEGFDVPD</td>\n",
       "      <td>1</td>\n",
       "    </tr>\n",
       "    <tr>\n",
       "      <th>55707</th>\n",
       "      <td>TF65_HUMAN_45</td>\n",
       "      <td>RYKCEGRSAGSIPGERSTDTT</td>\n",
       "      <td>1</td>\n",
       "    </tr>\n",
       "  </tbody>\n",
       "</table>\n",
       "<p>55708 rows × 3 columns</p>\n",
       "</div>"
      ],
      "text/plain": [
       "                Uniprot                    Seq  Label\n",
       "0      B7Z2C9_HUMAN_234  AYDSEVPSCHSIYMRQEGFLA      0\n",
       "1       HDAC5_MOUSE_790  DTVWNEMHSSSAVRMAVGCLV      0\n",
       "2       B3KS38_HUMAN_94  GFVFKMPWKPTHPSSTHALAE      0\n",
       "3       IP3KA_MOUSE_156  RSRGNVQLETSEDVGQKSHWQ      0\n",
       "4       MDC1_HUMAN_1314  KPTSRTTRSRTNMSSVKTPET      0\n",
       "...                 ...                    ...    ...\n",
       "55703     ICP0_HHV11_67  DSASEADSTDTELFETGLLGP      1\n",
       "55704  CAC1C_RABIT_1842  VRAQEAAWKLSSKRCHSQESQ      1\n",
       "55705   Q9PU52_CHICK_46  LARSSSGSAFSPYPGSAAFTA      1\n",
       "55706    MDM2_HUMAN_351  ISEKAKLENSTQAEEGFDVPD      1\n",
       "55707     TF65_HUMAN_45  RYKCEGRSAGSIPGERSTDTT      1\n",
       "\n",
       "[55708 rows x 3 columns]"
      ]
     },
     "execution_count": 9,
     "metadata": {},
     "output_type": "execute_result"
    }
   ],
   "source": [
    "data"
   ]
  },
  {
   "cell_type": "code",
   "execution_count": 10,
   "id": "51756b7d-676f-43fa-90e7-6b8613e3957c",
   "metadata": {},
   "outputs": [
    {
     "data": {
      "text/html": [
       "<div>\n",
       "<style scoped>\n",
       "    .dataframe tbody tr th:only-of-type {\n",
       "        vertical-align: middle;\n",
       "    }\n",
       "\n",
       "    .dataframe tbody tr th {\n",
       "        vertical-align: top;\n",
       "    }\n",
       "\n",
       "    .dataframe thead th {\n",
       "        text-align: right;\n",
       "    }\n",
       "</style>\n",
       "<table border=\"1\" class=\"dataframe\">\n",
       "  <thead>\n",
       "    <tr style=\"text-align: right;\">\n",
       "      <th></th>\n",
       "      <th>Uniprot</th>\n",
       "      <th>Seq</th>\n",
       "      <th>Label</th>\n",
       "    </tr>\n",
       "  </thead>\n",
       "  <tbody>\n",
       "    <tr>\n",
       "      <th>86</th>\n",
       "      <td>MELK_HUMAN_88</td>\n",
       "      <td>TANKIFMVLEYCPGGELFDYI</td>\n",
       "      <td>0</td>\n",
       "    </tr>\n",
       "    <tr>\n",
       "      <th>243</th>\n",
       "      <td>DYRK3_MOUSE_189</td>\n",
       "      <td>GVIGGPNNGGYDDADGAYIHV</td>\n",
       "      <td>0</td>\n",
       "    </tr>\n",
       "    <tr>\n",
       "      <th>261</th>\n",
       "      <td>DYR1A_RAT_145</td>\n",
       "      <td>VYNDGYDDDNYDYIVKNGEKW</td>\n",
       "      <td>0</td>\n",
       "    </tr>\n",
       "    <tr>\n",
       "      <th>272</th>\n",
       "      <td>CDK1_MOUSE_270</td>\n",
       "      <td>GLDLLSKMLVYDPAKRISGKM</td>\n",
       "      <td>0</td>\n",
       "    </tr>\n",
       "    <tr>\n",
       "      <th>291</th>\n",
       "      <td>MMP14_HUMAN_497</td>\n",
       "      <td>NNQKLKVEPGYPKSALRDWMG</td>\n",
       "      <td>0</td>\n",
       "    </tr>\n",
       "    <tr>\n",
       "      <th>...</th>\n",
       "      <td>...</td>\n",
       "      <td>...</td>\n",
       "      <td>...</td>\n",
       "    </tr>\n",
       "    <tr>\n",
       "      <th>55518</th>\n",
       "      <td>CDK1_HUMAN_15</td>\n",
       "      <td>TKIEKIGEGTYGVVYKGRHKT</td>\n",
       "      <td>1</td>\n",
       "    </tr>\n",
       "    <tr>\n",
       "      <th>55558</th>\n",
       "      <td>MELK_HUMAN_367</td>\n",
       "      <td>LEDVTASDKNYVAGLIDYDWC</td>\n",
       "      <td>1</td>\n",
       "    </tr>\n",
       "    <tr>\n",
       "      <th>55589</th>\n",
       "      <td>A0A024R0M8_HUMAN_271</td>\n",
       "      <td>GSSCQLGQRIYQYIQSRFYRS</td>\n",
       "      <td>1</td>\n",
       "    </tr>\n",
       "    <tr>\n",
       "      <th>55625</th>\n",
       "      <td>NOXA1_MOUSE_252</td>\n",
       "      <td>TTGGHTSPGLYDSLLASRRPG</td>\n",
       "      <td>1</td>\n",
       "    </tr>\n",
       "    <tr>\n",
       "      <th>55667</th>\n",
       "      <td>ERP29_HUMAN_64</td>\n",
       "      <td>KFVLVKFDTQYPYGEKQDEFK</td>\n",
       "      <td>1</td>\n",
       "    </tr>\n",
       "  </tbody>\n",
       "</table>\n",
       "<p>481 rows × 3 columns</p>\n",
       "</div>"
      ],
      "text/plain": [
       "                    Uniprot                    Seq  Label\n",
       "86            MELK_HUMAN_88  TANKIFMVLEYCPGGELFDYI      0\n",
       "243         DYRK3_MOUSE_189  GVIGGPNNGGYDDADGAYIHV      0\n",
       "261           DYR1A_RAT_145  VYNDGYDDDNYDYIVKNGEKW      0\n",
       "272          CDK1_MOUSE_270  GLDLLSKMLVYDPAKRISGKM      0\n",
       "291         MMP14_HUMAN_497  NNQKLKVEPGYPKSALRDWMG      0\n",
       "...                     ...                    ...    ...\n",
       "55518         CDK1_HUMAN_15  TKIEKIGEGTYGVVYKGRHKT      1\n",
       "55558        MELK_HUMAN_367  LEDVTASDKNYVAGLIDYDWC      1\n",
       "55589  A0A024R0M8_HUMAN_271  GSSCQLGQRIYQYIQSRFYRS      1\n",
       "55625       NOXA1_MOUSE_252  TTGGHTSPGLYDSLLASRRPG      1\n",
       "55667        ERP29_HUMAN_64  KFVLVKFDTQYPYGEKQDEFK      1\n",
       "\n",
       "[481 rows x 3 columns]"
      ]
     },
     "execution_count": 10,
     "metadata": {},
     "output_type": "execute_result"
    }
   ],
   "source": [
    "#Check the choice of central amino acid\n",
    "check = ['Y']\n",
    "mask = data['Seq'].apply(lambda s: s[len(s)//2] in check)\n",
    "data = data[mask]\n",
    "data"
   ]
  },
  {
   "cell_type": "code",
   "execution_count": 11,
   "id": "c1ca66e7-28a7-48f9-b020-5a5175dada02",
   "metadata": {},
   "outputs": [
    {
     "data": {
      "text/plain": [
       "0    441\n",
       "1     40\n",
       "Name: Label, dtype: int64"
      ]
     },
     "execution_count": 11,
     "metadata": {},
     "output_type": "execute_result"
    }
   ],
   "source": [
    "data['Label'].value_counts()"
   ]
  },
  {
   "cell_type": "code",
   "execution_count": 12,
   "id": "32b7542a-c0a2-4095-bb73-08c9c0afb1ad",
   "metadata": {},
   "outputs": [],
   "source": [
    "data = data.reset_index(drop=True)"
   ]
  },
  {
   "cell_type": "code",
   "execution_count": 13,
   "id": "09870a8e-f093-4129-9020-c239daf7924f",
   "metadata": {},
   "outputs": [],
   "source": [
    "test_texts=data['Seq']\n",
    "test_labels =data['Label']"
   ]
  },
  {
   "cell_type": "code",
   "execution_count": 14,
   "id": "b1fdc91e-9238-469d-bb3d-8ef666e67ed1",
   "metadata": {},
   "outputs": [],
   "source": [
    "test_dataset=SequenceClassificationDataset(test_texts,test_labels,tokenizer)"
   ]
  },
  {
   "cell_type": "code",
   "execution_count": 15,
   "id": "4cc59ddc-20c4-460e-852c-87cdf3e599e4",
   "metadata": {},
   "outputs": [],
   "source": [
    "test_data_loder= DataLoader(test_dataset,collate_fn=DataCollatorForSeq2Seq(tokenizer=tokenizer,padding=True),batch_size=1)"
   ]
  },
  {
   "cell_type": "code",
   "execution_count": 16,
   "id": "7e03b7d1-f954-46a7-b9b5-10a719cbe9d0",
   "metadata": {},
   "outputs": [],
   "source": [
    "map_label={0:'NEGATIVE',1:'POSITIVE'}"
   ]
  },
  {
   "cell_type": "code",
   "execution_count": 17,
   "id": "85664147-eb97-4382-9132-83ad668597e0",
   "metadata": {},
   "outputs": [],
   "source": [
    "def get_score(mdl_path):\n",
    "    model_config = GPT2Config.from_pretrained(mdl_path)\n",
    "    model = GPT2LMHeadModel.from_pretrained(mdl_path,config=model_config,ignore_mismatched_sizes=True)\n",
    "    model=model.cuda().eval()\n",
    "    predition=[]\n",
    "    for i,x in enumerate(test_data_loder):\n",
    "        Actual=f\"{tokenizer.decode(x['input_ids'][0],skip_special_tokens=True)} {x['label']}\"\n",
    "        generated=x['input_ids'].cuda()\n",
    "        sample_outputs=model.generate(generated,attention_mask=x['attention_mask'].cuda(),do_sample=False,top_k=50,max_new_tokens=2,top_p=0.15,temperature=0.1,num_return_sequences=0,pad_token_id=tokenizer.eos_token_id)\n",
    "        predicted_text=tokenizer.decode(sample_outputs[0],skip_special_tokens=True)\n",
    "        predition+=[[map_label[int(x.pop('label'))],predicted_text.split('\\n')[-1]]]\n",
    "    labels=[[0 if y=='NEGATIVE' else 1  for y in x] for x in predition]\n",
    "    labels=np.asanyarray(labels)\n",
    "    actual=labels[:,0]\n",
    "    pred=labels[:,1]\n",
    "    return f1_score(actual,pred),matthews_corrcoef(actual,pred), precision_score(actual,pred), recall_score(actual, pred), average_precision_score(actual,pred)"
   ]
  },
  {
   "cell_type": "code",
   "execution_count": null,
   "id": "5469f289-ae86-4b6d-b76d-fe1f36364bc6",
   "metadata": {
    "scrolled": true,
    "tags": []
   },
   "outputs": [],
   "source": [
    "#replace the path with best performing checkpoint\n",
    "get_score('checkpoint-22500/')"
   ]
  },
  {
   "cell_type": "markdown",
   "id": "924572de-7752-493c-ba42-45650b10aeee",
   "metadata": {},
   "source": [
    "# Check the best performing checkpoint in the benchmark dataset"
   ]
  },
  {
   "cell_type": "code",
   "execution_count": 19,
   "id": "4c4d0bcd-bc8d-45db-bfd0-2bf6f58eac25",
   "metadata": {},
   "outputs": [],
   "source": [
    "results=[]"
   ]
  },
  {
   "cell_type": "code",
   "execution_count": null,
   "id": "b0bf4fc2-5ffb-459b-a29a-d1f2e8cbfb54",
   "metadata": {
    "scrolled": true,
    "tags": []
   },
   "outputs": [],
   "source": [
    "#Replace the path with the output directory used during model training\n",
    "for mdl in os.listdir('/media/8TB_hardisk/results-Prompt3/'):\n",
    "    if 'checkpoint' in mdl:\n",
    "        mdl_path='/media/8TB_hardisk/results-Prompt3/'+mdl\n",
    "        f1,mcc,prc,rec,avg=get_score(mdl_path)\n",
    "        with open('results-Prompt3.csv','a') as f:\n",
    "            f.write(f'{mdl},{f1},{mcc},{prc},{rec},{avg}\\n')"
   ]
  },
  {
   "cell_type": "code",
   "execution_count": null,
   "id": "b91268cb-a950-4f3f-bddc-f3f955348c55",
   "metadata": {},
   "outputs": [],
   "source": []
  }
 ],
 "metadata": {
  "kernelspec": {
   "display_name": "Python 3 (ipykernel)",
   "language": "python",
   "name": "python3"
  },
  "language_info": {
   "codemirror_mode": {
    "name": "ipython",
    "version": 3
   },
   "file_extension": ".py",
   "mimetype": "text/x-python",
   "name": "python",
   "nbconvert_exporter": "python",
   "pygments_lexer": "ipython3",
   "version": "3.11.3"
  }
 },
 "nbformat": 4,
 "nbformat_minor": 5
}
