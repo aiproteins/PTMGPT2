{
 "cells": [
  {
   "cell_type": "code",
   "execution_count": 1,
   "id": "db852cb5-4917-475e-9174-82c06c0e4338",
   "metadata": {},
   "outputs": [
    {
     "name": "stderr",
     "output_type": "stream",
     "text": [
      "/home/jeevan/anaconda3/envs/succi/lib/python3.11/site-packages/tqdm/auto.py:21: TqdmWarning: IProgress not found. Please update jupyter and ipywidgets. See https://ipywidgets.readthedocs.io/en/stable/user_install.html\n",
      "  from .autonotebook import tqdm as notebook_tqdm\n"
     ]
    }
   ],
   "source": [
    "#Import necessary libraries\n",
    "import os\n",
    "import torch\n",
    "import evaluate\n",
    "import numpy as np\n",
    "import pandas as pd\n",
    "import torch.nn.functional as F\n",
    "from torch.utils.data import DataLoader,Dataset\n",
    "from sklearn.model_selection import StratifiedShuffleSplit\n",
    "from transformers import DataCollatorWithPadding,DataCollatorForSeq2Seq\n",
    "from transformers import AutoTokenizer, GPT2LMHeadModel,TrainingArguments, Trainer,GPT2Config,EarlyStoppingCallback\n",
    "from sklearn.metrics import average_precision_score,matthews_corrcoef,f1_score, precision_score, recall_score, balanced_accuracy_score"
   ]
  },
  {
   "cell_type": "code",
   "execution_count": null,
   "id": "80ed2b78-344a-419e-a652-a1df74431f87",
   "metadata": {},
   "outputs": [],
   "source": [
    "#Use GPU else specify '-1' for CPU\n",
    "os.environ[\"CUDA_VISIBLE_DEVICES\"]=\"0\""
   ]
  },
  {
   "cell_type": "code",
   "execution_count": 2,
   "id": "08ddc2ed-f76d-472f-9a33-7a22a309b448",
   "metadata": {},
   "outputs": [
    {
     "name": "stderr",
     "output_type": "stream",
     "text": [
      "Special tokens have been added in the vocabulary, make sure the associated word embeddings are fine-tuned or trained.\n"
     ]
    }
   ],
   "source": [
    "#Initialize tokenizer\n",
    "tokenizer = AutoTokenizer.from_pretrained('nferruz/ProtGPT2',bos_token='<startoftext>',eos_token='<endoftext>',pad_token='<PAD>')"
   ]
  },
  {
   "cell_type": "code",
   "execution_count": 3,
   "id": "f44dfd1a-6f97-4e31-bf10-7c8aa2b947a6",
   "metadata": {},
   "outputs": [
    {
     "data": {
      "text/plain": [
       "2"
      ]
     },
     "execution_count": 3,
     "metadata": {},
     "output_type": "execute_result"
    }
   ],
   "source": [
    "#Add custom tokens\n",
    "tokenizer.add_tokens(['POSITIVE','NEGATIVE'])"
   ]
  },
  {
   "cell_type": "code",
   "execution_count": 5,
   "id": "f526869d-579a-43d4-9262-789ae4035983",
   "metadata": {},
   "outputs": [],
   "source": [
    "#Map positive/negative labels and prepare prompt for inference\n",
    "class SequenceClassificationDataset(Dataset):\n",
    "    def __init__(self,first_ten, center, last_ten, labels, tokenizer):\n",
    "        self.first_ten = first_ten\n",
    "        self.center = center\n",
    "        self.last_ten = last_ten\n",
    "        self.labels = labels\n",
    "        self.tokenizer = tokenizer\n",
    "        self.map_label={1:'POSITIVE',0:'NEGATIVE'}\n",
    "        self.dtype='Train'\n",
    "    def __len__(self):\n",
    "        return len(self.first_ten)\n",
    "\n",
    "    def __getitem__(self, idx):\n",
    "        first_ten = self.first_ten[idx]\n",
    "        center = self.center[idx]\n",
    "        last_ten = self.last_ten[idx]\n",
    "        label = self.labels[idx]\n",
    "        prep_txt= f'<startoftext>{first_ten} {center} {last_ten}\\n'\n",
    "        encoding = self.tokenizer(prep_txt,return_tensors='pt')\n",
    "        return  {\n",
    "            'input_ids': encoding['input_ids'].squeeze(), \n",
    "            'attention_mask': encoding['attention_mask'].squeeze(), \n",
    "            'label': label\n",
    "        }"
   ]
  },
  {
   "cell_type": "code",
   "execution_count": 6,
   "id": "0575d48c-856d-4b30-bfb1-49d1cc9fa4bf",
   "metadata": {},
   "outputs": [],
   "source": [
    "#Load benchmark dataset\n",
    "data=pd.read_csv('benchmark.csv')"
   ]
  },
  {
   "cell_type": "code",
   "execution_count": 7,
   "id": "7836c399-2b20-4ad2-9228-e58b8f9271f2",
   "metadata": {},
   "outputs": [],
   "source": [
    "data['Seq']=data['Seq'].str.replace('\\n','')"
   ]
  },
  {
   "cell_type": "code",
   "execution_count": 8,
   "id": "e1d4625a-a3fb-4343-a1e9-2b7e868074fc",
   "metadata": {},
   "outputs": [],
   "source": [
    "data['Seq']=data['Seq'].str.replace('-','')"
   ]
  },
  {
   "cell_type": "code",
   "execution_count": 9,
   "id": "9fa94494-c8f7-4147-ae56-5a8405ff22c8",
   "metadata": {},
   "outputs": [],
   "source": [
    "# Function to extract parts of the sequence\n",
    "def extract_seq_parts(seq):\n",
    "    first_ten = seq[:10]  # First ten characters\n",
    "    last_ten = seq[-10:]  # Last ten characters\n",
    "    center = seq[len(seq) // 2] if len(seq) % 2 != 0 else ''  # Middle character for odd length, empty for even\n",
    "    return first_ten, center, last_ten\n",
    "\n",
    "# Applying the function to each sequence in the DataFrame\n",
    "data[['First-Ten', 'Center', 'Last-Ten']] = data['Seq'].apply(lambda x: pd.Series(extract_seq_parts(x)))"
   ]
  },
  {
   "cell_type": "code",
   "execution_count": 10,
   "id": "0c79a8ed-48b3-4318-a50d-1ab86f498a89",
   "metadata": {},
   "outputs": [
    {
     "data": {
      "text/html": [
       "<div>\n",
       "<style scoped>\n",
       "    .dataframe tbody tr th:only-of-type {\n",
       "        vertical-align: middle;\n",
       "    }\n",
       "\n",
       "    .dataframe tbody tr th {\n",
       "        vertical-align: top;\n",
       "    }\n",
       "\n",
       "    .dataframe thead th {\n",
       "        text-align: right;\n",
       "    }\n",
       "</style>\n",
       "<table border=\"1\" class=\"dataframe\">\n",
       "  <thead>\n",
       "    <tr style=\"text-align: right;\">\n",
       "      <th></th>\n",
       "      <th>Seq</th>\n",
       "      <th>Label</th>\n",
       "      <th>First-Ten</th>\n",
       "      <th>Center</th>\n",
       "      <th>Last-Ten</th>\n",
       "    </tr>\n",
       "  </thead>\n",
       "  <tbody>\n",
       "    <tr>\n",
       "      <th>0</th>\n",
       "      <td>ICCDILDVLDKHLIPAANTGE</td>\n",
       "      <td>0</td>\n",
       "      <td>ICCDILDVLD</td>\n",
       "      <td>K</td>\n",
       "      <td>HLIPAANTGE</td>\n",
       "    </tr>\n",
       "    <tr>\n",
       "      <th>1</th>\n",
       "      <td>AWRVISSIEQKTDTSDKKLQL</td>\n",
       "      <td>0</td>\n",
       "      <td>AWRVISSIEQ</td>\n",
       "      <td>K</td>\n",
       "      <td>TDTSDKKLQL</td>\n",
       "    </tr>\n",
       "    <tr>\n",
       "      <th>2</th>\n",
       "      <td>LIANATNPESKVFYLKMKGDY</td>\n",
       "      <td>0</td>\n",
       "      <td>LIANATNPES</td>\n",
       "      <td>K</td>\n",
       "      <td>VFYLKMKGDY</td>\n",
       "    </tr>\n",
       "    <tr>\n",
       "      <th>3</th>\n",
       "      <td>LAEVACGDDRKQTIDNSQGAY</td>\n",
       "      <td>0</td>\n",
       "      <td>LAEVACGDDR</td>\n",
       "      <td>K</td>\n",
       "      <td>QTIDNSQGAY</td>\n",
       "    </tr>\n",
       "    <tr>\n",
       "      <th>4</th>\n",
       "      <td>SWRVVSSIEQKTEGAEKKQQM</td>\n",
       "      <td>0</td>\n",
       "      <td>SWRVVSSIEQ</td>\n",
       "      <td>K</td>\n",
       "      <td>TEGAEKKQQM</td>\n",
       "    </tr>\n",
       "    <tr>\n",
       "      <th>...</th>\n",
       "      <td>...</td>\n",
       "      <td>...</td>\n",
       "      <td>...</td>\n",
       "      <td>...</td>\n",
       "      <td>...</td>\n",
       "    </tr>\n",
       "    <tr>\n",
       "      <th>31177</th>\n",
       "      <td>LDDMTKNDPFKARVSSGYVPP</td>\n",
       "      <td>1</td>\n",
       "      <td>LDDMTKNDPF</td>\n",
       "      <td>K</td>\n",
       "      <td>ARVSSGYVPP</td>\n",
       "    </tr>\n",
       "    <tr>\n",
       "      <th>31178</th>\n",
       "      <td>AGGTAPLPPWKSPSSSQPLPQ</td>\n",
       "      <td>1</td>\n",
       "      <td>AGGTAPLPPW</td>\n",
       "      <td>K</td>\n",
       "      <td>SPSSSQPLPQ</td>\n",
       "    </tr>\n",
       "    <tr>\n",
       "      <th>31179</th>\n",
       "      <td>PAPKFSPVTPKFTPVASKFSP</td>\n",
       "      <td>1</td>\n",
       "      <td>PAPKFSPVTP</td>\n",
       "      <td>K</td>\n",
       "      <td>FTPVASKFSP</td>\n",
       "    </tr>\n",
       "    <tr>\n",
       "      <th>31180</th>\n",
       "      <td>VTPKFTPVASKFSPGAPGGSG</td>\n",
       "      <td>1</td>\n",
       "      <td>VTPKFTPVAS</td>\n",
       "      <td>K</td>\n",
       "      <td>FSPGAPGGSG</td>\n",
       "    </tr>\n",
       "    <tr>\n",
       "      <th>31181</th>\n",
       "      <td>PGGSGSQPNQKLGHPEALSAG</td>\n",
       "      <td>1</td>\n",
       "      <td>PGGSGSQPNQ</td>\n",
       "      <td>K</td>\n",
       "      <td>LGHPEALSAG</td>\n",
       "    </tr>\n",
       "  </tbody>\n",
       "</table>\n",
       "<p>31182 rows × 5 columns</p>\n",
       "</div>"
      ],
      "text/plain": [
       "                         Seq  Label   First-Ten Center    Last-Ten\n",
       "0      ICCDILDVLDKHLIPAANTGE      0  ICCDILDVLD      K  HLIPAANTGE\n",
       "1      AWRVISSIEQKTDTSDKKLQL      0  AWRVISSIEQ      K  TDTSDKKLQL\n",
       "2      LIANATNPESKVFYLKMKGDY      0  LIANATNPES      K  VFYLKMKGDY\n",
       "3      LAEVACGDDRKQTIDNSQGAY      0  LAEVACGDDR      K  QTIDNSQGAY\n",
       "4      SWRVVSSIEQKTEGAEKKQQM      0  SWRVVSSIEQ      K  TEGAEKKQQM\n",
       "...                      ...    ...         ...    ...         ...\n",
       "31177  LDDMTKNDPFKARVSSGYVPP      1  LDDMTKNDPF      K  ARVSSGYVPP\n",
       "31178  AGGTAPLPPWKSPSSSQPLPQ      1  AGGTAPLPPW      K  SPSSSQPLPQ\n",
       "31179  PAPKFSPVTPKFTPVASKFSP      1  PAPKFSPVTP      K  FTPVASKFSP\n",
       "31180  VTPKFTPVASKFSPGAPGGSG      1  VTPKFTPVAS      K  FSPGAPGGSG\n",
       "31181  PGGSGSQPNQKLGHPEALSAG      1  PGGSGSQPNQ      K  LGHPEALSAG\n",
       "\n",
       "[31182 rows x 5 columns]"
      ]
     },
     "execution_count": 10,
     "metadata": {},
     "output_type": "execute_result"
    }
   ],
   "source": [
    "data"
   ]
  },
  {
   "cell_type": "code",
   "execution_count": 11,
   "id": "e2ff53df-32d9-4dc6-b8dc-02c67b10ce28",
   "metadata": {},
   "outputs": [],
   "source": [
    "#Check the choice of central amino acid\n",
    "data = data[data['Center']=='R']"
   ]
  },
  {
   "cell_type": "code",
   "execution_count": 12,
   "id": "51756b7d-676f-43fa-90e7-6b8613e3957c",
   "metadata": {},
   "outputs": [
    {
     "data": {
      "text/html": [
       "<div>\n",
       "<style scoped>\n",
       "    .dataframe tbody tr th:only-of-type {\n",
       "        vertical-align: middle;\n",
       "    }\n",
       "\n",
       "    .dataframe tbody tr th {\n",
       "        vertical-align: top;\n",
       "    }\n",
       "\n",
       "    .dataframe thead th {\n",
       "        text-align: right;\n",
       "    }\n",
       "</style>\n",
       "<table border=\"1\" class=\"dataframe\">\n",
       "  <thead>\n",
       "    <tr style=\"text-align: right;\">\n",
       "      <th></th>\n",
       "      <th>Seq</th>\n",
       "      <th>Label</th>\n",
       "      <th>First-Ten</th>\n",
       "      <th>Center</th>\n",
       "      <th>Last-Ten</th>\n",
       "    </tr>\n",
       "  </thead>\n",
       "  <tbody>\n",
       "    <tr>\n",
       "      <th>7</th>\n",
       "      <td>TQTWAGSHSMRYFFTSVSRPG</td>\n",
       "      <td>0</td>\n",
       "      <td>TQTWAGSHSM</td>\n",
       "      <td>R</td>\n",
       "      <td>YFFTSVSRPG</td>\n",
       "    </tr>\n",
       "    <tr>\n",
       "      <th>8</th>\n",
       "      <td>SDAASQRMEPRAPWIEQEGPE</td>\n",
       "      <td>0</td>\n",
       "      <td>SDAASQRMEP</td>\n",
       "      <td>R</td>\n",
       "      <td>APWIEQEGPE</td>\n",
       "    </tr>\n",
       "    <tr>\n",
       "      <th>9</th>\n",
       "      <td>AVVVPSGQEQRYTCHVQHEGL</td>\n",
       "      <td>0</td>\n",
       "      <td>AVVVPSGQEQ</td>\n",
       "      <td>R</td>\n",
       "      <td>YTCHVQHEGL</td>\n",
       "    </tr>\n",
       "    <tr>\n",
       "      <th>10</th>\n",
       "      <td>TGAVVAAVMWRRKSSDRKGGS</td>\n",
       "      <td>0</td>\n",
       "      <td>TGAVVAAVMW</td>\n",
       "      <td>R</td>\n",
       "      <td>RKSSDRKGGS</td>\n",
       "    </tr>\n",
       "    <tr>\n",
       "      <th>11</th>\n",
       "      <td>GAVVAAVMWRRKSSDRKGGSY</td>\n",
       "      <td>0</td>\n",
       "      <td>GAVVAAVMWR</td>\n",
       "      <td>R</td>\n",
       "      <td>KSSDRKGGSY</td>\n",
       "    </tr>\n",
       "    <tr>\n",
       "      <th>...</th>\n",
       "      <td>...</td>\n",
       "      <td>...</td>\n",
       "      <td>...</td>\n",
       "      <td>...</td>\n",
       "      <td>...</td>\n",
       "    </tr>\n",
       "    <tr>\n",
       "      <th>31140</th>\n",
       "      <td>PQLRSPRLPFRGNSYPGAAEG</td>\n",
       "      <td>1</td>\n",
       "      <td>PQLRSPRLPF</td>\n",
       "      <td>R</td>\n",
       "      <td>GNSYPGAAEG</td>\n",
       "    </tr>\n",
       "    <tr>\n",
       "      <th>31141</th>\n",
       "      <td>LPRFYPAGRARGIPHRFAGHE</td>\n",
       "      <td>1</td>\n",
       "      <td>LPRFYPAGRA</td>\n",
       "      <td>R</td>\n",
       "      <td>GIPHRFAGHE</td>\n",
       "    </tr>\n",
       "    <tr>\n",
       "      <th>31146</th>\n",
       "      <td>YYSPYALYGQRLASASALGYQ</td>\n",
       "      <td>1</td>\n",
       "      <td>YYSPYALYGQ</td>\n",
       "      <td>R</td>\n",
       "      <td>LASASALGYQ</td>\n",
       "    </tr>\n",
       "    <tr>\n",
       "      <th>31149</th>\n",
       "      <td>YTCEECGKAFRQSAILYVHRR</td>\n",
       "      <td>1</td>\n",
       "      <td>YTCEECGKAF</td>\n",
       "      <td>R</td>\n",
       "      <td>QSAILYVHRR</td>\n",
       "    </tr>\n",
       "    <tr>\n",
       "      <th>31171</th>\n",
       "      <td>VPTKPTPGERRYICAECGKAF</td>\n",
       "      <td>1</td>\n",
       "      <td>VPTKPTPGER</td>\n",
       "      <td>R</td>\n",
       "      <td>YICAECGKAF</td>\n",
       "    </tr>\n",
       "  </tbody>\n",
       "</table>\n",
       "<p>5235 rows × 5 columns</p>\n",
       "</div>"
      ],
      "text/plain": [
       "                         Seq  Label   First-Ten Center    Last-Ten\n",
       "7      TQTWAGSHSMRYFFTSVSRPG      0  TQTWAGSHSM      R  YFFTSVSRPG\n",
       "8      SDAASQRMEPRAPWIEQEGPE      0  SDAASQRMEP      R  APWIEQEGPE\n",
       "9      AVVVPSGQEQRYTCHVQHEGL      0  AVVVPSGQEQ      R  YTCHVQHEGL\n",
       "10     TGAVVAAVMWRRKSSDRKGGS      0  TGAVVAAVMW      R  RKSSDRKGGS\n",
       "11     GAVVAAVMWRRKSSDRKGGSY      0  GAVVAAVMWR      R  KSSDRKGGSY\n",
       "...                      ...    ...         ...    ...         ...\n",
       "31140  PQLRSPRLPFRGNSYPGAAEG      1  PQLRSPRLPF      R  GNSYPGAAEG\n",
       "31141  LPRFYPAGRARGIPHRFAGHE      1  LPRFYPAGRA      R  GIPHRFAGHE\n",
       "31146  YYSPYALYGQRLASASALGYQ      1  YYSPYALYGQ      R  LASASALGYQ\n",
       "31149  YTCEECGKAFRQSAILYVHRR      1  YTCEECGKAF      R  QSAILYVHRR\n",
       "31171  VPTKPTPGERRYICAECGKAF      1  VPTKPTPGER      R  YICAECGKAF\n",
       "\n",
       "[5235 rows x 5 columns]"
      ]
     },
     "execution_count": 12,
     "metadata": {},
     "output_type": "execute_result"
    }
   ],
   "source": [
    "data"
   ]
  },
  {
   "cell_type": "code",
   "execution_count": 13,
   "id": "c1ca66e7-28a7-48f9-b020-5a5175dada02",
   "metadata": {},
   "outputs": [
    {
     "data": {
      "text/plain": [
       "0    4683\n",
       "1     552\n",
       "Name: Label, dtype: int64"
      ]
     },
     "execution_count": 13,
     "metadata": {},
     "output_type": "execute_result"
    }
   ],
   "source": [
    "data['Label'].value_counts()"
   ]
  },
  {
   "cell_type": "code",
   "execution_count": 14,
   "id": "32b7542a-c0a2-4095-bb73-08c9c0afb1ad",
   "metadata": {},
   "outputs": [],
   "source": [
    "data = data.reset_index(drop=True)"
   ]
  },
  {
   "cell_type": "code",
   "execution_count": 15,
   "id": "09870a8e-f093-4129-9020-c239daf7924f",
   "metadata": {},
   "outputs": [],
   "source": [
    "first_test_texts=data['First-Ten'].reset_index(drop=True)\n",
    "center_test_texts=data['Center'].reset_index(drop=True)\n",
    "last_test_texts=data['Last-Ten'].reset_index(drop=True)\n",
    "test_labels=data['Label'].reset_index(drop=True)"
   ]
  },
  {
   "cell_type": "code",
   "execution_count": 16,
   "id": "b1fdc91e-9238-469d-bb3d-8ef666e67ed1",
   "metadata": {},
   "outputs": [],
   "source": [
    "test_dataset=SequenceClassificationDataset(first_test_texts,center_test_texts,last_test_texts,test_labels,tokenizer)"
   ]
  },
  {
   "cell_type": "code",
   "execution_count": 17,
   "id": "4cc59ddc-20c4-460e-852c-87cdf3e599e4",
   "metadata": {},
   "outputs": [],
   "source": [
    "test_data_loder= DataLoader(test_dataset,collate_fn=DataCollatorForSeq2Seq(tokenizer=tokenizer,padding=True),batch_size=1)"
   ]
  },
  {
   "cell_type": "code",
   "execution_count": 18,
   "id": "7e03b7d1-f954-46a7-b9b5-10a719cbe9d0",
   "metadata": {},
   "outputs": [],
   "source": [
    "map_label={0:'NEGATIVE',1:'POSITIVE'}"
   ]
  },
  {
   "cell_type": "code",
   "execution_count": 19,
   "id": "85664147-eb97-4382-9132-83ad668597e0",
   "metadata": {},
   "outputs": [],
   "source": [
    "def get_score(mdl_path):\n",
    "    model_config = GPT2Config.from_pretrained(mdl_path)\n",
    "    model = GPT2LMHeadModel.from_pretrained(mdl_path,config=model_config,ignore_mismatched_sizes=True)\n",
    "    model=model.cuda().eval()\n",
    "    predition=[]\n",
    "    for i,x in enumerate(test_data_loder):\n",
    "        Actual=f\"{tokenizer.decode(x['input_ids'][0],skip_special_tokens=True)} {x['label']}\"\n",
    "        generated=x['input_ids'].cuda()\n",
    "        sample_outputs=model.generate(generated,attention_mask=x['attention_mask'].cuda(),do_sample=False,top_k=50,max_new_tokens=2,top_p=0.15,temperature=0.1,num_return_sequences=0,pad_token_id=tokenizer.eos_token_id)\n",
    "        predicted_text=tokenizer.decode(sample_outputs[0],skip_special_tokens=True)\n",
    "        predition+=[[map_label[int(x.pop('label'))],predicted_text.split('\\n')[-1]]]\n",
    "    labels=[[0 if y=='NEGATIVE' else 1  for y in x] for x in predition]\n",
    "    labels=np.asanyarray(labels)\n",
    "    actual=labels[:,0]\n",
    "    pred=labels[:,1]\n",
    "    return f1_score(actual,pred),matthews_corrcoef(actual,pred), precision_score(actual,pred), recall_score(actual, pred), average_precision_score(actual,pred)"
   ]
  },
  {
   "cell_type": "code",
   "execution_count": null,
   "id": "5469f289-ae86-4b6d-b76d-fe1f36364bc6",
   "metadata": {
    "scrolled": true,
    "tags": []
   },
   "outputs": [],
   "source": [
    "#replace the path with best performing checkpoint\n",
    "get_score('checkpoint-22500/')"
   ]
  },
  {
   "cell_type": "markdown",
   "id": "cb1af830-6ae3-4181-a9b6-12acd2205584",
   "metadata": {},
   "source": [
    "# Check the best performing checkpoint in the benchmark dataset"
   ]
  },
  {
   "cell_type": "code",
   "execution_count": 21,
   "id": "4c4d0bcd-bc8d-45db-bfd0-2bf6f58eac25",
   "metadata": {},
   "outputs": [],
   "source": [
    "results=[]"
   ]
  },
  {
   "cell_type": "code",
   "execution_count": null,
   "id": "b0bf4fc2-5ffb-459b-a29a-d1f2e8cbfb54",
   "metadata": {
    "scrolled": true,
    "tags": []
   },
   "outputs": [],
   "source": [
    "#Replace the path with the output directory used during model training\n",
    "for mdl in os.listdir('/media/8TB_hardisk/results-Prompt2/'):\n",
    "    if 'checkpoint' in mdl:\n",
    "        mdl_path='/media/8TB_hardisk/results-Prompt2/'+mdl\n",
    "        f1,mcc,prc,rec,avg=get_score(mdl_path)\n",
    "        with open('results-Prompt2.csv','a') as f:\n",
    "            f.write(f'{mdl},{f1},{mcc},{prc},{rec},{avg}\\n')"
   ]
  }
 ],
 "metadata": {
  "kernelspec": {
   "display_name": "Python 3 (ipykernel)",
   "language": "python",
   "name": "python3"
  },
  "language_info": {
   "codemirror_mode": {
    "name": "ipython",
    "version": 3
   },
   "file_extension": ".py",
   "mimetype": "text/x-python",
   "name": "python",
   "nbconvert_exporter": "python",
   "pygments_lexer": "ipython3",
   "version": "3.11.3"
  }
 },
 "nbformat": 4,
 "nbformat_minor": 5
}
