{
 "cells": [
  {
   "cell_type": "code",
   "execution_count": null,
   "id": "db852cb5-4917-475e-9174-82c06c0e4338",
   "metadata": {},
   "outputs": [],
   "source": [
    "#Import necessary libraries\n",
    "import os\n",
    "import torch\n",
    "import evaluate\n",
    "import pandas as pd\n",
    "import torch.nn.functional as F\n",
    "from torch.utils.data import DataLoader,Dataset\n",
    "from sklearn.model_selection import StratifiedShuffleSplit\n",
    "from transformers import DataCollatorWithPadding,DataCollatorForSeq2Seq\n",
    "from transformers import AutoTokenizer, GPT2LMHeadModel,TrainingArguments, Trainer,GPT2Config,EarlyStoppingCallback"
   ]
  },
  {
   "cell_type": "code",
   "execution_count": null,
   "id": "71439002-02a0-4887-bf7a-5c9e8f06419b",
   "metadata": {},
   "outputs": [],
   "source": [
    "#Use GPU else specify '-1' for CPU\n",
    "os.environ[\"CUDA_VISIBLE_DEVICES\"]=\"0\""
   ]
  },
  {
   "cell_type": "code",
   "execution_count": 2,
   "id": "5b00c504-febc-4a5b-85b6-12f53a8afcc2",
   "metadata": {},
   "outputs": [],
   "source": [
    "data=pd.read_csv('training.csv')"
   ]
  },
  {
   "cell_type": "code",
   "execution_count": 3,
   "id": "03612da8-7bae-400e-a94d-851481a8aff4",
   "metadata": {},
   "outputs": [
    {
     "data": {
      "text/html": [
       "<div>\n",
       "<style scoped>\n",
       "    .dataframe tbody tr th:only-of-type {\n",
       "        vertical-align: middle;\n",
       "    }\n",
       "\n",
       "    .dataframe tbody tr th {\n",
       "        vertical-align: top;\n",
       "    }\n",
       "\n",
       "    .dataframe thead th {\n",
       "        text-align: right;\n",
       "    }\n",
       "</style>\n",
       "<table border=\"1\" class=\"dataframe\">\n",
       "  <thead>\n",
       "    <tr style=\"text-align: right;\">\n",
       "      <th></th>\n",
       "      <th>Seq</th>\n",
       "      <th>Label</th>\n",
       "    </tr>\n",
       "  </thead>\n",
       "  <tbody>\n",
       "    <tr>\n",
       "      <th>0</th>\n",
       "      <td>RTPPPSQGKGRGLSLSRFSWG</td>\n",
       "      <td>1</td>\n",
       "    </tr>\n",
       "    <tr>\n",
       "      <th>1</th>\n",
       "      <td>TSLALDESLFRGRQIKVIPKR</td>\n",
       "      <td>1</td>\n",
       "    </tr>\n",
       "    <tr>\n",
       "      <th>2</th>\n",
       "      <td>TNRPGISTTDRGFPRARYRAR</td>\n",
       "      <td>1</td>\n",
       "    </tr>\n",
       "    <tr>\n",
       "      <th>3</th>\n",
       "      <td>GISTTDRGFPRARYRARTTNY</td>\n",
       "      <td>1</td>\n",
       "    </tr>\n",
       "    <tr>\n",
       "      <th>4</th>\n",
       "      <td>TDRGFPRARYRARTTNYNSSR</td>\n",
       "      <td>1</td>\n",
       "    </tr>\n",
       "    <tr>\n",
       "      <th>...</th>\n",
       "      <td>...</td>\n",
       "      <td>...</td>\n",
       "    </tr>\n",
       "    <tr>\n",
       "      <th>126029</th>\n",
       "      <td>LMEHHSSHGGRKRYACQGCWK</td>\n",
       "      <td>0</td>\n",
       "    </tr>\n",
       "    <tr>\n",
       "      <th>126030</th>\n",
       "      <td>KEKSYALGGARGPQPSTREAQ</td>\n",
       "      <td>0</td>\n",
       "    </tr>\n",
       "    <tr>\n",
       "      <th>126031</th>\n",
       "      <td>GGARGPQPSTREAQAGARAGG</td>\n",
       "      <td>0</td>\n",
       "    </tr>\n",
       "    <tr>\n",
       "      <th>126032</th>\n",
       "      <td>PSTREAQAGARAGGPPESVEG</td>\n",
       "      <td>0</td>\n",
       "    </tr>\n",
       "    <tr>\n",
       "      <th>126033</th>\n",
       "      <td>EAPPAPPEAQR</td>\n",
       "      <td>0</td>\n",
       "    </tr>\n",
       "  </tbody>\n",
       "</table>\n",
       "<p>126034 rows × 2 columns</p>\n",
       "</div>"
      ],
      "text/plain": [
       "                          Seq  Label\n",
       "0       RTPPPSQGKGRGLSLSRFSWG      1\n",
       "1       TSLALDESLFRGRQIKVIPKR      1\n",
       "2       TNRPGISTTDRGFPRARYRAR      1\n",
       "3       GISTTDRGFPRARYRARTTNY      1\n",
       "4       TDRGFPRARYRARTTNYNSSR      1\n",
       "...                       ...    ...\n",
       "126029  LMEHHSSHGGRKRYACQGCWK      0\n",
       "126030  KEKSYALGGARGPQPSTREAQ      0\n",
       "126031  GGARGPQPSTREAQAGARAGG      0\n",
       "126032  PSTREAQAGARAGGPPESVEG      0\n",
       "126033            EAPPAPPEAQR      0\n",
       "\n",
       "[126034 rows x 2 columns]"
      ]
     },
     "execution_count": 3,
     "metadata": {},
     "output_type": "execute_result"
    }
   ],
   "source": [
    "data"
   ]
  },
  {
   "cell_type": "code",
   "execution_count": 4,
   "id": "cfcb79e5-f504-43be-9cdd-75a1bb9f07c0",
   "metadata": {},
   "outputs": [
    {
     "data": {
      "text/plain": [
       "0    118466\n",
       "1      7568\n",
       "Name: Label, dtype: int64"
      ]
     },
     "execution_count": 4,
     "metadata": {},
     "output_type": "execute_result"
    }
   ],
   "source": [
    "#Check the positive and negative labels\n",
    "data['Label'].value_counts()"
   ]
  },
  {
   "cell_type": "code",
   "execution_count": 5,
   "id": "32494e71-943e-4dcb-9c18-c6b8b61adf98",
   "metadata": {},
   "outputs": [],
   "source": [
    "#Remove \\n and - characters from the sequence\n",
    "data['Seq']=data['Seq'].str.replace('-','')\n",
    "data['Seq']=data['Seq'].str.replace('\\n','')"
   ]
  },
  {
   "cell_type": "code",
   "execution_count": 6,
   "id": "2e84d3bc-c3d2-4d5f-b373-73bc27d9c18a",
   "metadata": {},
   "outputs": [],
   "source": [
    "# Function to extract parts of the sequence\n",
    "def extract_seq_parts(seq):\n",
    "    first_ten = seq[:10]  # First ten characters\n",
    "    last_ten = seq[-10:]  # Last ten characters\n",
    "    center = seq[len(seq) // 2] if len(seq) % 2 != 0 else ''  # Middle character for odd length, empty for even\n",
    "    return first_ten, center, last_ten\n",
    "\n",
    "# Applying the function to each sequence in the DataFrame\n",
    "data[['First-Ten', 'Center', 'Last-Ten']] = data['Seq'].apply(lambda x: pd.Series(extract_seq_parts(x)))"
   ]
  },
  {
   "cell_type": "code",
   "execution_count": 7,
   "id": "143c1b6d-37ca-4b6e-8580-5e363093c8cc",
   "metadata": {},
   "outputs": [
    {
     "data": {
      "text/html": [
       "<div>\n",
       "<style scoped>\n",
       "    .dataframe tbody tr th:only-of-type {\n",
       "        vertical-align: middle;\n",
       "    }\n",
       "\n",
       "    .dataframe tbody tr th {\n",
       "        vertical-align: top;\n",
       "    }\n",
       "\n",
       "    .dataframe thead th {\n",
       "        text-align: right;\n",
       "    }\n",
       "</style>\n",
       "<table border=\"1\" class=\"dataframe\">\n",
       "  <thead>\n",
       "    <tr style=\"text-align: right;\">\n",
       "      <th></th>\n",
       "      <th>Seq</th>\n",
       "      <th>Label</th>\n",
       "      <th>First-Ten</th>\n",
       "      <th>Center</th>\n",
       "      <th>Last-Ten</th>\n",
       "    </tr>\n",
       "  </thead>\n",
       "  <tbody>\n",
       "    <tr>\n",
       "      <th>0</th>\n",
       "      <td>RTPPPSQGKGRGLSLSRFSWG</td>\n",
       "      <td>1</td>\n",
       "      <td>RTPPPSQGKG</td>\n",
       "      <td>R</td>\n",
       "      <td>GLSLSRFSWG</td>\n",
       "    </tr>\n",
       "    <tr>\n",
       "      <th>1</th>\n",
       "      <td>TSLALDESLFRGRQIKVIPKR</td>\n",
       "      <td>1</td>\n",
       "      <td>TSLALDESLF</td>\n",
       "      <td>R</td>\n",
       "      <td>GRQIKVIPKR</td>\n",
       "    </tr>\n",
       "    <tr>\n",
       "      <th>2</th>\n",
       "      <td>TNRPGISTTDRGFPRARYRAR</td>\n",
       "      <td>1</td>\n",
       "      <td>TNRPGISTTD</td>\n",
       "      <td>R</td>\n",
       "      <td>GFPRARYRAR</td>\n",
       "    </tr>\n",
       "    <tr>\n",
       "      <th>3</th>\n",
       "      <td>GISTTDRGFPRARYRARTTNY</td>\n",
       "      <td>1</td>\n",
       "      <td>GISTTDRGFP</td>\n",
       "      <td>R</td>\n",
       "      <td>ARYRARTTNY</td>\n",
       "    </tr>\n",
       "    <tr>\n",
       "      <th>4</th>\n",
       "      <td>TDRGFPRARYRARTTNYNSSR</td>\n",
       "      <td>1</td>\n",
       "      <td>TDRGFPRARY</td>\n",
       "      <td>R</td>\n",
       "      <td>ARTTNYNSSR</td>\n",
       "    </tr>\n",
       "    <tr>\n",
       "      <th>...</th>\n",
       "      <td>...</td>\n",
       "      <td>...</td>\n",
       "      <td>...</td>\n",
       "      <td>...</td>\n",
       "      <td>...</td>\n",
       "    </tr>\n",
       "    <tr>\n",
       "      <th>126029</th>\n",
       "      <td>LMEHHSSHGGRKRYACQGCWK</td>\n",
       "      <td>0</td>\n",
       "      <td>LMEHHSSHGG</td>\n",
       "      <td>R</td>\n",
       "      <td>KRYACQGCWK</td>\n",
       "    </tr>\n",
       "    <tr>\n",
       "      <th>126030</th>\n",
       "      <td>KEKSYALGGARGPQPSTREAQ</td>\n",
       "      <td>0</td>\n",
       "      <td>KEKSYALGGA</td>\n",
       "      <td>R</td>\n",
       "      <td>GPQPSTREAQ</td>\n",
       "    </tr>\n",
       "    <tr>\n",
       "      <th>126031</th>\n",
       "      <td>GGARGPQPSTREAQAGARAGG</td>\n",
       "      <td>0</td>\n",
       "      <td>GGARGPQPST</td>\n",
       "      <td>R</td>\n",
       "      <td>EAQAGARAGG</td>\n",
       "    </tr>\n",
       "    <tr>\n",
       "      <th>126032</th>\n",
       "      <td>PSTREAQAGARAGGPPESVEG</td>\n",
       "      <td>0</td>\n",
       "      <td>PSTREAQAGA</td>\n",
       "      <td>R</td>\n",
       "      <td>AGGPPESVEG</td>\n",
       "    </tr>\n",
       "    <tr>\n",
       "      <th>126033</th>\n",
       "      <td>EAPPAPPEAQR</td>\n",
       "      <td>0</td>\n",
       "      <td>EAPPAPPEAQ</td>\n",
       "      <td>P</td>\n",
       "      <td>APPAPPEAQR</td>\n",
       "    </tr>\n",
       "  </tbody>\n",
       "</table>\n",
       "<p>126034 rows × 5 columns</p>\n",
       "</div>"
      ],
      "text/plain": [
       "                          Seq  Label   First-Ten Center    Last-Ten\n",
       "0       RTPPPSQGKGRGLSLSRFSWG      1  RTPPPSQGKG      R  GLSLSRFSWG\n",
       "1       TSLALDESLFRGRQIKVIPKR      1  TSLALDESLF      R  GRQIKVIPKR\n",
       "2       TNRPGISTTDRGFPRARYRAR      1  TNRPGISTTD      R  GFPRARYRAR\n",
       "3       GISTTDRGFPRARYRARTTNY      1  GISTTDRGFP      R  ARYRARTTNY\n",
       "4       TDRGFPRARYRARTTNYNSSR      1  TDRGFPRARY      R  ARTTNYNSSR\n",
       "...                       ...    ...         ...    ...         ...\n",
       "126029  LMEHHSSHGGRKRYACQGCWK      0  LMEHHSSHGG      R  KRYACQGCWK\n",
       "126030  KEKSYALGGARGPQPSTREAQ      0  KEKSYALGGA      R  GPQPSTREAQ\n",
       "126031  GGARGPQPSTREAQAGARAGG      0  GGARGPQPST      R  EAQAGARAGG\n",
       "126032  PSTREAQAGARAGGPPESVEG      0  PSTREAQAGA      R  AGGPPESVEG\n",
       "126033            EAPPAPPEAQR      0  EAPPAPPEAQ      P  APPAPPEAQR\n",
       "\n",
       "[126034 rows x 5 columns]"
      ]
     },
     "execution_count": 7,
     "metadata": {},
     "output_type": "execute_result"
    }
   ],
   "source": [
    "data"
   ]
  },
  {
   "cell_type": "code",
   "execution_count": 8,
   "id": "914a914a-44fe-42e4-b44b-8e609b52c59e",
   "metadata": {},
   "outputs": [],
   "source": [
    "#Check the choice of central amino acid\n",
    "data = data[data['Center']=='R']"
   ]
  },
  {
   "cell_type": "code",
   "execution_count": 9,
   "id": "db90be40-405f-407f-9755-94a939bdf03c",
   "metadata": {},
   "outputs": [
    {
     "data": {
      "text/html": [
       "<div>\n",
       "<style scoped>\n",
       "    .dataframe tbody tr th:only-of-type {\n",
       "        vertical-align: middle;\n",
       "    }\n",
       "\n",
       "    .dataframe tbody tr th {\n",
       "        vertical-align: top;\n",
       "    }\n",
       "\n",
       "    .dataframe thead th {\n",
       "        text-align: right;\n",
       "    }\n",
       "</style>\n",
       "<table border=\"1\" class=\"dataframe\">\n",
       "  <thead>\n",
       "    <tr style=\"text-align: right;\">\n",
       "      <th></th>\n",
       "      <th>Seq</th>\n",
       "      <th>Label</th>\n",
       "      <th>First-Ten</th>\n",
       "      <th>Center</th>\n",
       "      <th>Last-Ten</th>\n",
       "    </tr>\n",
       "  </thead>\n",
       "  <tbody>\n",
       "    <tr>\n",
       "      <th>0</th>\n",
       "      <td>RTPPPSQGKGRGLSLSRFSWG</td>\n",
       "      <td>1</td>\n",
       "      <td>RTPPPSQGKG</td>\n",
       "      <td>R</td>\n",
       "      <td>GLSLSRFSWG</td>\n",
       "    </tr>\n",
       "    <tr>\n",
       "      <th>1</th>\n",
       "      <td>TSLALDESLFRGRQIKVIPKR</td>\n",
       "      <td>1</td>\n",
       "      <td>TSLALDESLF</td>\n",
       "      <td>R</td>\n",
       "      <td>GRQIKVIPKR</td>\n",
       "    </tr>\n",
       "    <tr>\n",
       "      <th>2</th>\n",
       "      <td>TNRPGISTTDRGFPRARYRAR</td>\n",
       "      <td>1</td>\n",
       "      <td>TNRPGISTTD</td>\n",
       "      <td>R</td>\n",
       "      <td>GFPRARYRAR</td>\n",
       "    </tr>\n",
       "    <tr>\n",
       "      <th>3</th>\n",
       "      <td>GISTTDRGFPRARYRARTTNY</td>\n",
       "      <td>1</td>\n",
       "      <td>GISTTDRGFP</td>\n",
       "      <td>R</td>\n",
       "      <td>ARYRARTTNY</td>\n",
       "    </tr>\n",
       "    <tr>\n",
       "      <th>4</th>\n",
       "      <td>TDRGFPRARYRARTTNYNSSR</td>\n",
       "      <td>1</td>\n",
       "      <td>TDRGFPRARY</td>\n",
       "      <td>R</td>\n",
       "      <td>ARTTNYNSSR</td>\n",
       "    </tr>\n",
       "    <tr>\n",
       "      <th>...</th>\n",
       "      <td>...</td>\n",
       "      <td>...</td>\n",
       "      <td>...</td>\n",
       "      <td>...</td>\n",
       "      <td>...</td>\n",
       "    </tr>\n",
       "    <tr>\n",
       "      <th>126028</th>\n",
       "      <td>GPGADEPGLSRGKPYACGECG</td>\n",
       "      <td>0</td>\n",
       "      <td>GPGADEPGLS</td>\n",
       "      <td>R</td>\n",
       "      <td>GKPYACGECG</td>\n",
       "    </tr>\n",
       "    <tr>\n",
       "      <th>126029</th>\n",
       "      <td>LMEHHSSHGGRKRYACQGCWK</td>\n",
       "      <td>0</td>\n",
       "      <td>LMEHHSSHGG</td>\n",
       "      <td>R</td>\n",
       "      <td>KRYACQGCWK</td>\n",
       "    </tr>\n",
       "    <tr>\n",
       "      <th>126030</th>\n",
       "      <td>KEKSYALGGARGPQPSTREAQ</td>\n",
       "      <td>0</td>\n",
       "      <td>KEKSYALGGA</td>\n",
       "      <td>R</td>\n",
       "      <td>GPQPSTREAQ</td>\n",
       "    </tr>\n",
       "    <tr>\n",
       "      <th>126031</th>\n",
       "      <td>GGARGPQPSTREAQAGARAGG</td>\n",
       "      <td>0</td>\n",
       "      <td>GGARGPQPST</td>\n",
       "      <td>R</td>\n",
       "      <td>EAQAGARAGG</td>\n",
       "    </tr>\n",
       "    <tr>\n",
       "      <th>126032</th>\n",
       "      <td>PSTREAQAGARAGGPPESVEG</td>\n",
       "      <td>0</td>\n",
       "      <td>PSTREAQAGA</td>\n",
       "      <td>R</td>\n",
       "      <td>AGGPPESVEG</td>\n",
       "    </tr>\n",
       "  </tbody>\n",
       "</table>\n",
       "<p>122292 rows × 5 columns</p>\n",
       "</div>"
      ],
      "text/plain": [
       "                          Seq  Label   First-Ten Center    Last-Ten\n",
       "0       RTPPPSQGKGRGLSLSRFSWG      1  RTPPPSQGKG      R  GLSLSRFSWG\n",
       "1       TSLALDESLFRGRQIKVIPKR      1  TSLALDESLF      R  GRQIKVIPKR\n",
       "2       TNRPGISTTDRGFPRARYRAR      1  TNRPGISTTD      R  GFPRARYRAR\n",
       "3       GISTTDRGFPRARYRARTTNY      1  GISTTDRGFP      R  ARYRARTTNY\n",
       "4       TDRGFPRARYRARTTNYNSSR      1  TDRGFPRARY      R  ARTTNYNSSR\n",
       "...                       ...    ...         ...    ...         ...\n",
       "126028  GPGADEPGLSRGKPYACGECG      0  GPGADEPGLS      R  GKPYACGECG\n",
       "126029  LMEHHSSHGGRKRYACQGCWK      0  LMEHHSSHGG      R  KRYACQGCWK\n",
       "126030  KEKSYALGGARGPQPSTREAQ      0  KEKSYALGGA      R  GPQPSTREAQ\n",
       "126031  GGARGPQPSTREAQAGARAGG      0  GGARGPQPST      R  EAQAGARAGG\n",
       "126032  PSTREAQAGARAGGPPESVEG      0  PSTREAQAGA      R  AGGPPESVEG\n",
       "\n",
       "[122292 rows x 5 columns]"
      ]
     },
     "execution_count": 9,
     "metadata": {},
     "output_type": "execute_result"
    }
   ],
   "source": [
    "data"
   ]
  },
  {
   "cell_type": "code",
   "execution_count": 10,
   "id": "7ddfa1b6-cc26-4ea1-9ca1-39dde8bbbc91",
   "metadata": {},
   "outputs": [],
   "source": [
    "#Reset index to minimize out of index errors\n",
    "data.reset_index(inplace=True, drop=True)"
   ]
  },
  {
   "cell_type": "code",
   "execution_count": 11,
   "id": "08ddc2ed-f76d-472f-9a33-7a22a309b448",
   "metadata": {},
   "outputs": [
    {
     "name": "stderr",
     "output_type": "stream",
     "text": [
      "Special tokens have been added in the vocabulary, make sure the associated word embeddings are fine-tuned or trained.\n"
     ]
    }
   ],
   "source": [
    "#Initialize tokenizer\n",
    "tokenizer = AutoTokenizer.from_pretrained('nferruz/ProtGPT2',bos_token='<startoftext>',eos_token='<endoftext>',pad_token='<PAD>')"
   ]
  },
  {
   "cell_type": "code",
   "execution_count": 12,
   "id": "f03bd472-bb93-44f6-81f5-830e8a9c7e94",
   "metadata": {},
   "outputs": [
    {
     "data": {
      "text/plain": [
       "2"
      ]
     },
     "execution_count": 12,
     "metadata": {},
     "output_type": "execute_result"
    }
   ],
   "source": [
    "#Add custom tokens\n",
    "tokenizer.add_tokens(['POSITIVE','NEGATIVE'])"
   ]
  },
  {
   "cell_type": "code",
   "execution_count": 13,
   "id": "5de038a1-673b-4c49-b21c-b0dd636f3db7",
   "metadata": {},
   "outputs": [
    {
     "data": {
      "text/plain": [
       "{'bos_token': '<startoftext>',\n",
       " 'eos_token': '<endoftext>',\n",
       " 'unk_token': '<|endoftext|>',\n",
       " 'pad_token': '<PAD>'}"
      ]
     },
     "execution_count": 13,
     "metadata": {},
     "output_type": "execute_result"
    }
   ],
   "source": [
    "tokenizer.special_tokens_map"
   ]
  },
  {
   "cell_type": "code",
   "execution_count": 15,
   "id": "f526869d-579a-43d4-9262-789ae4035983",
   "metadata": {},
   "outputs": [],
   "source": [
    "#Map positive/negative labels and prepare prompt for training\n",
    "class SequenceClassificationDataset(Dataset):\n",
    "    def __init__(self,first_ten, center, last_ten, labels, tokenizer,dtype='Train'):\n",
    "        self.first_ten = first_ten\n",
    "        self.center = center\n",
    "        self.last_ten = last_ten\n",
    "        self.labels = labels\n",
    "        self.tokenizer = tokenizer\n",
    "        self.map_label={1:'POSITIVE',0:'NEGATIVE'}\n",
    "        self.dtype='Train'\n",
    "    def __len__(self):\n",
    "        return len(self.first_ten)\n",
    "\n",
    "    def __getitem__(self, idx):\n",
    "        first_ten = self.first_ten[idx]\n",
    "        center = self.center[idx]\n",
    "        last_ten = self.last_ten[idx]\n",
    "        label = self.labels[idx]\n",
    "        prep_txt1= f'<startoftext>{first_ten} {center} {last_ten}\\n{self.map_label[label]}<endoftext>'\n",
    "        encoding1 = self.tokenizer(prep_txt1,return_tensors='pt')\n",
    "        return {\n",
    "            'input_ids': encoding1['input_ids'].squeeze(), \n",
    "            'attention_mask': encoding1['attention_mask'].squeeze(), \n",
    "            'labels': encoding1['input_ids'].squeeze()\n",
    "        }"
   ]
  },
  {
   "cell_type": "code",
   "execution_count": 18,
   "id": "0575d48c-856d-4b30-bfb1-49d1cc9fa4bf",
   "metadata": {},
   "outputs": [],
   "source": [
    "first_train_texts=data['First-Ten'].reset_index(drop=True)\n",
    "center_train_texts=data['Center'].reset_index(drop=True)\n",
    "last_train_texts=data['Last-Ten'].reset_index(drop=True)\n",
    "train_labels=data['Label'].reset_index(drop=True)"
   ]
  },
  {
   "cell_type": "code",
   "execution_count": 19,
   "id": "fed854e7-1e86-44c6-8522-14372e537a1e",
   "metadata": {},
   "outputs": [],
   "source": [
    "train_dataset=SequenceClassificationDataset(first_train_texts,center_train_texts,last_train_texts,train_labels,tokenizer,'Train')"
   ]
  },
  {
   "cell_type": "code",
   "execution_count": 21,
   "id": "a6f3b213-2ad4-4090-832e-1e254655613e",
   "metadata": {},
   "outputs": [],
   "source": [
    "#Load the pre-trained model\n",
    "model_config = GPT2Config.from_pretrained('nferruz/ProtGPT2')"
   ]
  },
  {
   "cell_type": "code",
   "execution_count": 22,
   "id": "3d768994-5197-490d-a3d4-5b1669fedbc9",
   "metadata": {},
   "outputs": [],
   "source": [
    "training_args = TrainingArguments(\n",
    "    output_dir='/media/8TB_hardisk/results-Prompt2/',  # output directory\n",
    "    num_train_epochs=200,  # total number of training epochs\n",
    "    per_device_train_batch_size=128,  # batch size per device during training\n",
    "    per_device_eval_batch_size=128,  # batch size for evaluation\n",
    "    warmup_steps=500,  # number of warmup steps for learning rate scheduler\n",
    "    weight_decay=0.01,  # strength of weight decay\n",
    "    logging_dir='logs/',\n",
    "    save_steps=500,\n",
    "    logging_steps=500\n",
    "    save_total_limit=10 #no. of models to save in the output directory\n",
    ")"
   ]
  },
  {
   "cell_type": "code",
   "execution_count": 23,
   "id": "0df798b7-1c96-4e7b-ba97-f30cc346c112",
   "metadata": {},
   "outputs": [
    {
     "data": {
      "text/plain": [
       "Embedding(50262, 1280)"
      ]
     },
     "execution_count": 23,
     "metadata": {},
     "output_type": "execute_result"
    }
   ],
   "source": [
    "model = GPT2LMHeadModel.from_pretrained('nferruz/ProtGPT2',config=model_config,ignore_mismatched_sizes=True)\n",
    "model.resize_token_embeddings(len(tokenizer))"
   ]
  },
  {
   "cell_type": "code",
   "execution_count": 24,
   "id": "8a0bebae-de4c-4475-b2cf-2d5419f07de4",
   "metadata": {
    "scrolled": true,
    "tags": []
   },
   "outputs": [],
   "source": [
    "trainer = Trainer(\n",
    "    model=model,\n",
    "    args=training_args,\n",
    "    train_dataset=train_dataset,\n",
    "    data_collator=DataCollatorForSeq2Seq(tokenizer=tokenizer,padding='longest'),\n",
    ")"
   ]
  },
  {
   "cell_type": "code",
   "execution_count": null,
   "id": "3a7cf890-5363-49ec-b5dc-3a68cfa3493c",
   "metadata": {
    "scrolled": true,
    "tags": []
   },
   "outputs": [],
   "source": [
    "trainer.train()"
   ]
  },
  {
   "cell_type": "code",
   "execution_count": null,
   "id": "b9b9d597-57f6-4594-8613-f64a0ad12f1b",
   "metadata": {},
   "outputs": [],
   "source": []
  }
 ],
 "metadata": {
  "kernelspec": {
   "display_name": "Python 3 (ipykernel)",
   "language": "python",
   "name": "python3"
  },
  "language_info": {
   "codemirror_mode": {
    "name": "ipython",
    "version": 3
   },
   "file_extension": ".py",
   "mimetype": "text/x-python",
   "name": "python",
   "nbconvert_exporter": "python",
   "pygments_lexer": "ipython3",
   "version": "3.11.3"
  }
 },
 "nbformat": 4,
 "nbformat_minor": 5
}
