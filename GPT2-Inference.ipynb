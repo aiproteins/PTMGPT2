{
 "cells": [
  {
   "cell_type": "markdown",
   "id": "e702b018-d74b-4bec-9097-fad0802e7ec5",
   "metadata": {},
   "source": [
    "## Libraries"
   ]
  },
  {
   "cell_type": "code",
   "execution_count": 1,
   "id": "db852cb5-4917-475e-9174-82c06c0e4338",
   "metadata": {},
   "outputs": [
    {
     "name": "stderr",
     "output_type": "stream",
     "text": [
      "/home/jeevan/anaconda3/envs/succi/lib/python3.11/site-packages/tqdm/auto.py:21: TqdmWarning: IProgress not found. Please update jupyter and ipywidgets. See https://ipywidgets.readthedocs.io/en/stable/user_install.html\n",
      "  from .autonotebook import tqdm as notebook_tqdm\n"
     ]
    }
   ],
   "source": [
    "#Import necessary libraries\n",
    "import os\n",
    "import torch\n",
    "import evaluate\n",
    "import numpy as np\n",
    "import pandas as pd\n",
    "from torch.utils.data import DataLoader,Dataset\n",
    "from transformers import DataCollatorForSeq2Seq\n",
    "from transformers import AutoTokenizer, GPT2LMHeadModel,TrainingArguments, Trainer,GPT2Config\n",
    "from sklearn.metrics import average_precision_score,matthews_corrcoef,f1_score, precision_score, recall_score, balanced_accuracy_score"
   ]
  },
  {
   "cell_type": "markdown",
   "id": "160bc965-ba96-45b4-995c-6f41d41ab2bd",
   "metadata": {},
   "source": [
    "## Subsequence breakdown (Data pre-processing)"
   ]
  },
  {
   "cell_type": "code",
   "execution_count": 2,
   "id": "f37711c0-3385-44ed-aa24-db30694dbe1c",
   "metadata": {},
   "outputs": [],
   "source": [
    "def find_subsequences(sequence:str, chars:list, left=10, right=10):\n",
    "    subsequences = []\n",
    "    length = len(sequence)\n",
    "    # Iterate through the sequence to find the character\n",
    "    for i, c in enumerate(sequence):\n",
    "        if c in chars:\n",
    "            # Calculate the start and end indices for the subsequence\n",
    "            start = max(0, i - left)  # Ensure start is not less than 0\n",
    "            end = min(length, i + right + 1)  # Ensure end does not exceed the sequence length\n",
    "            \n",
    "            # Append the subsequence to the list\n",
    "            subsequences.append({'Seq':sequence[start:end],\n",
    "                                 'Pos':i+1,\n",
    "                                 'text':f'<startoftext>SEQUENCE:{sequence[start:end]}\\nLABEL:'\n",
    "                                 })\n",
    "    return subsequences"
   ]
  },
  {
   "cell_type": "code",
   "execution_count": 3,
   "id": "deaab49f",
   "metadata": {},
   "outputs": [],
   "source": [
    "def read_fasta(file_path):\n",
    "    \"\"\"\n",
    "    Reads a FASTA file and returns a dictionary with sequence identifiers as keys\n",
    "    and sequences as values.\n",
    "\n",
    "    :param file_path: str, path to the FASTA file\n",
    "    :return: dict, dictionary with sequence IDs as keys and sequences as values\n",
    "    \"\"\"\n",
    "    sequences = {}\n",
    "    sequence_id = None\n",
    "    sequence_data = []\n",
    "\n",
    "    with open(file_path, 'r') as file:\n",
    "        for line in file:\n",
    "            line = line.strip()\n",
    "            if line.startswith('>'):\n",
    "                if sequence_id is not None:\n",
    "                    sequences[sequence_id] = ''.join(sequence_data)\n",
    "                sequence_id = line[1:]\n",
    "                sequence_data = []\n",
    "            else:\n",
    "                sequence_data.append(line)\n",
    "        \n",
    "        # Add the last sequence\n",
    "        if sequence_id is not None:\n",
    "            sequences[sequence_id] = ''.join(sequence_data)\n",
    "\n",
    "    return sequences"
   ]
  },
  {
   "cell_type": "markdown",
   "id": "ec36407f-a562-4a2e-8943-ecf1673139d8",
   "metadata": {},
   "source": [
    "## Load model | Load tokenizer | Prediction API call"
   ]
  },
  {
   "cell_type": "code",
   "execution_count": 4,
   "id": "e786627a-0be4-4c6d-a26c-43e89cbcdd4b",
   "metadata": {},
   "outputs": [],
   "source": [
    "def load_model(mdl_pth):\n",
    "    \"\"\"\n",
    "    Loads a pre-trained GPT-2 model from the specified path.\n",
    "\n",
    "    :param mdl_pth: str, path to the model directory.\n",
    "    :return: GPT2LMHeadModel, the loaded GPT-2 model in evaluation mode on the CPU.\n",
    "    \"\"\"\n",
    "    model_config = GPT2Config.from_pretrained(mdl_pth)\n",
    "    model = GPT2LMHeadModel.from_pretrained(mdl_pth,config=model_config,ignore_mismatched_sizes=True)\n",
    "    return model.cpu().eval()\n",
    "\n",
    "def tokenize(sub_sequences,tokenizer):\n",
    "    \"\"\"\n",
    "    Tokenizes the given subsequences using the specified tokenizer.\n",
    "\n",
    "    :param sub_sequences: list of dicts, each containing a 'text' field with the subsequence to tokenize.\n",
    "    :param tokenizer: AutoTokenizer, the tokenizer to use for tokenizing the subsequences.\n",
    "    :return: dict, the tokenized subsequences with padding applied.\n",
    "    \"\"\"\n",
    "    sub_sequences=[x['text'] for x in sub_sequences]\n",
    "    encoded=tokenizer(sub_sequences,return_tensors='pt',padding='longest')\n",
    "    return encoded\n",
    "\n",
    "def inference(input_seq,tokenizer_pth,model_pth,chars:list):\n",
    "    \"\"\"\n",
    "    Performs inference on the input sequence using a specified tokenizer and model, and extracts labels.\n",
    "\n",
    "    :param input_seq: str, the input sequence to process.\n",
    "    :param tokenizer_pth: str, path to the tokenizer directory.\n",
    "    :param model_pth: str, path to the model directory.\n",
    "    :param chars: list of str, characters to find subsequences for.\n",
    "    :return: dict, a JSON-like dictionary containing the input sequence, model type, and labeled results.\n",
    "    \"\"\"\n",
    "    tokenizer = AutoTokenizer.from_pretrained(tokenizer_pth,padding_side='left')\n",
    "    model=load_model(model_pth)\n",
    "    sub_sequences=find_subsequences(input_seq,chars=chars)\n",
    "    inputs_encode=tokenize(sub_sequences=sub_sequences,tokenizer=tokenizer)\n",
    "    predicted=model.generate(inputs_encode['input_ids'],attention_mask=inputs_encode['attention_mask'],do_sample=False,top_k=50,max_new_tokens=2,top_p=0.15,temperature=0.1,num_return_sequences=0,pad_token_id=50259)\n",
    "    predicted_text=tokenizer.batch_decode(predicted,skip_special_tokens=True)\n",
    "    predicted_labels=[x.split('LABEL:')[-1] for x in predicted_text]\n",
    "    json_results={'Sequence':input_seq,\n",
    "                'Type':model_pth,\n",
    "                'Results':[]\n",
    "                }\n",
    "    for label,sub_seq in zip(predicted_labels,sub_sequences):\n",
    "        json_results['Results'].append({sub_seq['Pos']:label})\n",
    "    return json_results"
   ]
  },
  {
   "cell_type": "markdown",
   "id": "44b3e827",
   "metadata": {},
   "source": [
    "## Post-Translational Modification (PTM) Types and Corresponding `Res` Values\n",
    "\n",
    "This document provides a reference for selecting the appropriate `Res` values based on the PTM type.\n",
    "\n",
    "### PTM Types and `Res` Values\n",
    "\n",
    "1. **Acetylation (K)**\n",
    "   - `Res`: `['K']`\n",
    "\n",
    "2. **Phosphorylation (Y)**\n",
    "   - `Res`: `['Y']`\n",
    "\n",
    "3. **Methylation (R)**\n",
    "   - `Res`: `['R']`\n",
    "\n",
    "4. **Succinylation (K)**\n",
    "   - `Res`: `['K']`\n",
    "\n",
    "5. **Sumoylation (K)**\n",
    "   - `Res`: `['K']`\n",
    "\n",
    "6. **N-linked Glycosylation (N)**\n",
    "   - `Res`: `['N']`\n",
    "\n",
    "7. **Ubiquitination (K)**\n",
    "   - `Res`: `['K']`\n",
    "\n",
    "8. **O-linked Glycosylation (S,T)**\n",
    "   - `Res`: `['S', 'T']`\n",
    "\n",
    "9. **S-nitrosylation (C)**\n",
    "   - `Res`: `['C']`\n",
    "\n",
    "10. **Malonylation (K)**\n",
    "    - `Res`: `['K']`\n",
    "\n",
    "11. **Methylation (K)**\n",
    "    - `Res`: `['K']`\n",
    "\n",
    "12. **Phosphorylation (S,T)**\n",
    "    - `Res`: `['S', 'T']`\n",
    "\n",
    "13. **Glutathionylation (C)**\n",
    "    - `Res`: `['C']`\n",
    "\n",
    "14. **Glutarylation (K)**\n",
    "    - `Res`: `['K']`\n",
    "\n",
    "15. **Amidation (V)**\n",
    "    - `Res`: `['V']`\n",
    "\n",
    "16. **S-palmitoylation (C)**\n",
    "    - `Res`: `['C']`\n",
    "\n",
    "17. **Hydroxylation (P)**\n",
    "    - `Res`: `['P']`\n",
    "\n",
    "18. **Hydroxylation (K)**\n",
    "    - `Res`: `['K']`\n",
    "\n",
    "19. **Formylation (K)**\n",
    "    - `Res`: `['K']`"
   ]
  },
  {
   "cell_type": "markdown",
   "id": "09650e42",
   "metadata": {},
   "source": [
    "## Code Example for Hydroxylation\n",
    "\n",
    "Below is a Python code example that demonstrates how to perform inference using a pre-trained model for Hydroxylation."
   ]
  },
  {
   "cell_type": "code",
   "execution_count": 5,
   "id": "30b6b7c7",
   "metadata": {},
   "outputs": [],
   "source": [
    "#Here we are selecting Hydroxylation\n",
    "model_path='/home/jeevan/succi/PTMGPT2/Hydroxylation (P) sample model/'\n",
    "tokenizer_path='Tokenizer/'\n",
    "Res=['P'] # Used for making subsequences."
   ]
  },
  {
   "cell_type": "markdown",
   "id": "0b9e05dd",
   "metadata": {},
   "source": [
    "# Single Sequence Prediction"
   ]
  },
  {
   "cell_type": "markdown",
   "id": "0189f432",
   "metadata": {},
   "source": [
    "## Example Sequence"
   ]
  },
  {
   "cell_type": "code",
   "execution_count": 6,
   "id": "14bf4b31",
   "metadata": {},
   "outputs": [],
   "source": [
    "#Define benchmark dataset using pandas\n",
    "sequence='MASKSVVVLLFLALIASSAIAQAPGPAPTRSPLPSPAQPPRTAAPTPSITPTPTPTPSATPTAAPVSPPAGSPLPSSASPPAPPTSLTPDGAPVAGPTGSTPVDNNNAATLAAGSLAGFVFVASLLL'"
   ]
  },
  {
   "cell_type": "code",
   "execution_count": 7,
   "id": "7b2fe370-adc2-41a1-88fd-ffc9ed12aa24",
   "metadata": {},
   "outputs": [
    {
     "name": "stdout",
     "output_type": "stream",
     "text": [
      "{'Sequence': 'MASKSVVVLLFLALIASSAIAQAPGPAPTRSPLPSPAQPPRTAAPTPSITPTPTPTPSATPTAAPVSPPAGSPLPSSASPPAPPTSLTPDGAPVAGPTGSTPVDNNNAATLAAGSLAGFVFVASLLL', 'Type': '/home/jeevan/succi/PTMGPT2/Hydroxylation (P) sample model/', 'Results': [{24: 'POSITIVE'}, {26: 'POSITIVE'}, {28: 'POSITIVE'}, {32: 'POSITIVE'}, {34: 'POSITIVE'}, {36: 'POSITIVE'}, {39: 'POSITIVE'}, {40: 'POSITIVE'}, {45: 'NEGATIVE'}, {47: 'NEGATIVE'}, {51: 'NEGATIVE'}, {53: 'NEGATIVE'}, {55: 'NEGATIVE'}, {57: 'NEGATIVE'}, {61: 'NEGATIVE'}, {65: 'NEGATIVE'}, {68: 'NEGATIVE'}, {69: 'NEGATIVE'}, {73: 'NEGATIVE'}, {75: 'NEGATIVE'}, {80: 'NEGATIVE'}, {81: 'NEGATIVE'}, {83: 'NEGATIVE'}, {84: 'NEGATIVE'}, {89: 'NEGATIVE'}, {93: 'NEGATIVE'}, {97: 'NEGATIVE'}, {102: 'NEGATIVE'}]}\n"
     ]
    }
   ],
   "source": [
    "result = inference(sequence,tokenizer_path,model_path,['P'])\n",
    "print(result)"
   ]
  },
  {
   "cell_type": "markdown",
   "id": "a699593f",
   "metadata": {},
   "source": [
    "# Multiple Sequence Prediction"
   ]
  },
  {
   "cell_type": "code",
   "execution_count": 8,
   "id": "0fd61b67",
   "metadata": {},
   "outputs": [],
   "source": [
    "#Read Fasta File\n",
    "sequences=read_fasta('Data/sample.fasta')"
   ]
  },
  {
   "cell_type": "code",
   "execution_count": 9,
   "id": "e5a9289c",
   "metadata": {},
   "outputs": [
    {
     "name": "stdout",
     "output_type": "stream",
     "text": [
      "Header : sp|A0A0C5B5G6|MOTSC_HUMAN Mitochondrial-derived peptide MOTS-c OS=Homo sapiens OX=9606 GN=MT-RNR1 PE=1 SV=1\n",
      "Prediction: {'Sequence': 'MRWQEMGYIFYPRKLR', 'Type': '/home/jeevan/succi/PTMGPT2/Hydroxylation (P) sample model/', 'Results': [{12: 'NEGATIVE'}]}\n",
      "Header : sp|A0A1B0GTW7|CIROP_HUMAN Ciliated left-right organizer metallopeptidase OS=Homo sapiens OX=9606 GN=CIROP PE=1 SV=1\n",
      "Prediction: {'Sequence': 'MLLLLLLLLLLPPLVLRVAASRCLHDETQKSVSLLRPPFSQLPSKSRSSSLTLPSSRDPQPLRIQSCYLGDHISDGAWDPEGEGMRGGSRALAAVREATQRIQAVLAVQGPLLLSRDPAQYCHAVWGDPDSPNYHRCSLLNPGYKGESCLGAKIPDTHLRGYALWPEQGPPQLVQPDGPGVQNTDFLLYVRVAHTSKCHQETVSLCCPGWSTAAQSQLTAALTSWAQRRGFVMLPRLCLKLLGSSNLPTLASQSIRITGPSVIAYAACCQLDSEDRPLAGTIVYCAQHLTSPSLSHSDIVMATLHELLHALGFSGQLFKKWRDCPSGFSVRENCSTRQLVTRQDEWGQLLLTTPAVSLSLAKHLGVSGASLGVPLEEEEGLLSSHWEARLLQGSLMTATFDGAQRTRLDPITLAAFKDSGWYQVNHSAAEELLWGQGSGPEFGLVTTCGTGSSDFFCTGSGLGCHYLHLDKGSCSSDPMLEGCRMYKPLANGSECWKKENGFPAGVDNPHGEIYHPQSRCFFANLTSQLLPGDKPRHPSLTPHLKEAELMGRCYLHQCTGRGAYKVQVEGSPWVPCLPGKVIQIPGYYGLLFCPRGRLCQTNEDINAVTSPPVSLSTPDPLFQLSLELAGPPGHSLGKEQQEGLAEAVLEALASKGGTGRCYFHGPSITTSLVFTVHMWKSPGCQGPSVATLHKALTLTLQKKPLEVYHGGANFTTQPSKLLVTSDHNPSMTHLRLSMGLCLMLLILVGVMGTTAYQKRATLPVRPSASYHSPELHSTRVPVRGIREV', 'Type': '/home/jeevan/succi/PTMGPT2/Hydroxylation (P) sample model/', 'Results': [{12: 'NEGATIVE'}, {13: 'NEGATIVE'}, {37: 'NEGATIVE'}, {38: 'NEGATIVE'}, {43: 'NEGATIVE'}, {54: 'NEGATIVE'}, {59: 'NEGATIVE'}, {61: 'NEGATIVE'}, {80: 'NEGATIVE'}, {111: 'NEGATIVE'}, {118: 'NEGATIVE'}, {129: 'NEGATIVE'}, {132: 'NEGATIVE'}, {142: 'NEGATIVE'}, {155: 'NEGATIVE'}, {166: 'NEGATIVE'}, {170: 'NEGATIVE'}, {171: 'NEGATIVE'}, {176: 'NEGATIVE'}, {179: 'NEGATIVE'}, {208: 'NEGATIVE'}, {235: 'NEGATIVE'}, {248: 'NEGATIVE'}, {260: 'NEGATIVE'}, {277: 'NEGATIVE'}, {292: 'NEGATIVE'}, {325: 'NEGATIVE'}, {354: 'NEGATIVE'}, {374: 'NEGATIVE'}, {410: 'NEGATIVE'}, {440: 'NEGATIVE'}, {478: 'NEGATIVE'}, {488: 'NEGATIVE'}, {503: 'NEGATIVE'}, {509: 'NEGATIVE'}, {516: 'NEGATIVE'}, {531: 'NEGATIVE'}, {535: 'NEGATIVE'}, {538: 'NEGATIVE'}, {542: 'NEGATIVE'}, {572: 'NEGATIVE'}, {575: 'NEGATIVE'}, {578: 'NEGATIVE'}, {585: 'NEGATIVE'}, {594: 'NEGATIVE'}, {611: 'NEGATIVE'}, {612: 'NEGATIVE'}, {618: 'NEGATIVE'}, {620: 'NEGATIVE'}, {631: 'NEGATIVE'}, {632: 'NEGATIVE'}, {666: 'NEGATIVE'}, {682: 'NEGATIVE'}, {687: 'NEGATIVE'}, {704: 'NEGATIVE'}, {718: 'NEGATIVE'}, {729: 'NEGATIVE'}, {763: 'NEGATIVE'}, {766: 'NEGATIVE'}, {773: 'NEGATIVE'}, {781: 'NEGATIVE'}]}\n",
      "Header : sp|A0JNW5|BLT3B_HUMAN Bridge-like lipid transfer protein family member 3B OS=Homo sapiens OX=9606 GN=BLTP3B PE=1 SV=2\n",
      "Prediction: {'Sequence': 'MAGIIKKQILKHLSRFTKNLSPDKINLSTLKGEGELKNLELDEEVLQNMLDLPTWLAINKVFCNKASIRIPWTKLKTHPICLSLDKVIMEMSTCEEPRSPNGPSPIATASGQSEYGFAEKVVEGISVSVNSIVIRIGAKAFNASFELSQLRIYSVNAHWEHGDLRFTRIQDPQRGEVLTFKEINWQMIRIEADATQSSHLEIMCAPVRLITNQSKIRVTLKRRLKDCNVIATKLVLILDDLLWVLTDSQLKAMVQYAKSLSEAIEKSTEQRKSMAPEPTQSSTVVASAQQVKTTQTSNAPDVNDAIVKLFNDFDVKETSHHLVISHLDLHICDDIHAKEKESNRRITGGAMQLSFTQLTIDYYPYHKAGDSCNHWMYFSDATKTKNGWANELLHEFECNVEMLKQAVKDHNVGSPPKSPTHASPQHTQTEKDYPLKGTCRTPSVLSQQSKAKLMSSSVVVRLADFNIYQVSTAEQCRSSPKSMICCNKKSLYLPQEMSAVYIEFTEYYYPDGKDFPIPSPNLYSQLNALQFTVDERSILWLNQFLLDLKQSLNQFMAVYKLNDNSKSDEHVDVRVDGLMLKFVIPSEVKSECHQDQPRAISIQSSEMIATNTRHCPNCRHSDLEALFQDFKDCDFFSKTYTSFPKSCDNFNLLHPIFQRHAHEQDTKMHEIYKGNITPQLNKNTLKTSAATDVWAVYFSQFWIDYEGMKSGKGRPISFVDSFPLSIWICQPTRYAESQKEPQTCNQVSLNTSQSESSDLAGRLKRKKLLKEYYSTESEPLTNGGQKPSSSDTFFRFSPSSSEADIHLLVHVHKHVSMQINHYQYLLLLFLHESLILLSENLRKDVEAVTGSPASQTSICIGILLRSAELALLLHPVDQANTLKSPVSESVSPVVPDYLPTENGDFLSSKRKQISRDINRIRSVTVNHMSDNRSMSVDLSHIPLKDPLLFKSASDTNLQKGISFMDYLSDKHLGKISEDESSGLVYKSGSGEIGSETSDKKDSFYTDSSSILNYREDSNILSFDSDGNQNILSSTLTSKGNETIESIFKAEDLLPEAASLSENLDISKEETPPVRTLKSQSSLSGKPKERCPPNLAPLCVSYKNMKRSSSQMSLDTISLDSMILEEQLLESDGSDSHMFLEKGNKKNSTTNYRGTAESVNAGANLQNYGETSPDAISTNSEGAQENHDDLMSVVVFKITGVNGEIDIRGEDTEICLQVNQVTPDQLGNISLRHYLCNRPVGSDQKAVIHSKSSPEISLRFESGPGAVIHSLLAEKNGFLQCHIENFSTEFLTSSLMNIQHFLEDETVATVMPMKIQVSNTKINLKDDSPRSSTVSLEPAPVTVHIDHLVVERSDDGSFHIRDSHMLNTGNDLKENVKSDSVLLTSGKYDLKKQRSVTQATQTSPGVPWPSQSANFPEFSFDFTREQLMEENESLKQELAKAKMALAEAHLEKDALLHHIKKMTVE', 'Type': '/home/jeevan/succi/PTMGPT2/Hydroxylation (P) sample model/', 'Results': [{22: 'NEGATIVE'}, {53: 'NEGATIVE'}, {71: 'NEGATIVE'}, {79: 'NEGATIVE'}, {97: 'NEGATIVE'}, {100: 'NEGATIVE'}, {103: 'NEGATIVE'}, {105: 'NEGATIVE'}, {172: 'NEGATIVE'}, {206: 'NEGATIVE'}, {276: 'NEGATIVE'}, {278: 'NEGATIVE'}, {300: 'NEGATIVE'}, {364: 'NEGATIVE'}, {415: 'NEGATIVE'}, {416: 'NEGATIVE'}, {419: 'NEGATIVE'}, {424: 'NEGATIVE'}, {434: 'NEGATIVE'}, {442: 'NEGATIVE'}, {480: 'NEGATIVE'}, {494: 'NEGATIVE'}, {510: 'NEGATIVE'}, {516: 'NEGATIVE'}, {518: 'NEGATIVE'}, {520: 'NEGATIVE'}, {585: 'NEGATIVE'}, {597: 'NEGATIVE'}, {616: 'NEGATIVE'}, {644: 'NEGATIVE'}, {655: 'NEGATIVE'}, {678: 'NEGATIVE'}, {715: 'NEGATIVE'}, {723: 'NEGATIVE'}, {731: 'NEGATIVE'}, {741: 'NEGATIVE'}, {779: 'NEGATIVE'}, {787: 'NEGATIVE'}, {798: 'NEGATIVE'}, {852: 'NEGATIVE'}, {875: 'NEGATIVE'}, {885: 'NEGATIVE'}, {892: 'NEGATIVE'}, {895: 'NEGATIVE'}, {899: 'NEGATIVE'}, {942: 'NEGATIVE'}, {946: 'NEGATIVE'}, {1054: 'NEGATIVE'}, {1071: 'NEGATIVE'}, {1072: 'NEGATIVE'}, {1086: 'NEGATIVE'}, {1091: 'NEGATIVE'}, {1092: 'NEGATIVE'}, {1096: 'NEGATIVE'}, {1172: 'NEGATIVE'}, {1222: 'NEGATIVE'}, {1238: 'NEGATIVE'}, {1253: 'NEGATIVE'}, {1263: 'NEGATIVE'}, {1311: 'NEGATIVE'}, {1328: 'NEGATIVE'}, {1337: 'NEGATIVE'}, {1339: 'NEGATIVE'}, {1403: 'NEGATIVE'}, {1406: 'NEGATIVE'}, {1408: 'NEGATIVE'}, {1415: 'POSITIVE'}]}\n",
      "Header : sp|A0JP26|POTB3_HUMAN POTE ankyrin domain family member B3 OS=Homo sapiens OX=9606 GN=POTEB3 PE=1 SV=2\n",
      "Prediction: {'Sequence': 'MVAEVCSMPAASAVKKPFDLRSKMGKWCHHRFPCCRGSGKSNMGTSGDHDDSFMKTLRSKMGKCCHHCFPCCRGSGTSNVGTSGDHDNSFMKTLRSKMGKWCCHCFPCCRGSGKSNVGTWGDYDDSAFMEPRYHVRREDLDKLHRAAWWGKVPRKDLIVMLRDTDMNKRDKQKRTALHLASANGNSEVVQLLLDRRCQLNVLDNKKRTALIKAVQCQEDECVLMLLEHGADGNIQDEYGNTALHYAIYNEDKLMAKALLLYGADIESKNKCGLTPLLLGVHEQKQQVVKFLIKKKANLNALDRYGRTALILAVCCGSASIVNLLLEQNVDVSSQDLSGQTAREYAVSSHHHVICELLSDYKEKQMLKISSENSNPEQDLKLTSEEESQRLKVSENSQPEKMSQEPEINKDCDREVEEEIKKHGSNPVGLPENLTNGASAGNGDDGLIPQRKSRKPENQQFPDTENEEYHSDEQNDTQKQLSEEQNTGISQDEILTNKQKQIEVAEKEMNSKLSLSHKKEEDLLRENSMLREEIAMLRLELDETKHQNQLRENKILEEIESVKEKLLKAIQLNEEALTKTSI', 'Type': '/home/jeevan/succi/PTMGPT2/Hydroxylation (P) sample model/', 'Results': [{9: 'NEGATIVE'}, {17: 'NEGATIVE'}, {33: 'POSITIVE'}, {70: 'POSITIVE'}, {107: 'POSITIVE'}, {131: 'NEGATIVE'}, {153: 'NEGATIVE'}, {275: 'NEGATIVE'}, {375: 'NEGATIVE'}, {398: 'NEGATIVE'}, {405: 'NEGATIVE'}, {426: 'NEGATIVE'}, {430: 'NEGATIVE'}, {448: 'NEGATIVE'}, {455: 'NEGATIVE'}, {461: 'NEGATIVE'}]}\n",
      "Header : sp|A0PK11|CLRN2_HUMAN Clarin-2 OS=Homo sapiens OX=9606 GN=CLRN2 PE=1 SV=1\n",
      "Prediction: {'Sequence': 'MPGWFKKAWYGLASLLSFSSFILIIVALVVPHWLSGKILCQTGVDLVNATDRELVKFIGDIYYGLFRGCKVRQCGLGGRQSQFTIFPHLVKELNAGLHVMILLLLFLALALALVSMGFAILNMIQVPYRAVSGPGGICLWNVLAGGVVALAIASFVAAVKFHDLTERIANFQEKLFQFVVVEEQYEESFWICVASASAHAANLVVVAISQIPLPEIKTKIEEATVTAEDILY', 'Type': '/home/jeevan/succi/PTMGPT2/Hydroxylation (P) sample model/', 'Results': [{2: 'NEGATIVE'}, {31: 'NEGATIVE'}, {87: 'NEGATIVE'}, {127: 'NEGATIVE'}, {134: 'NEGATIVE'}, {212: 'NEGATIVE'}, {214: 'NEGATIVE'}]}\n",
      "Header : sp|A1A4S6|RHG10_HUMAN Rho GTPase-activating protein 10 OS=Homo sapiens OX=9606 GN=ARHGAP10 PE=1 SV=1\n",
      "Prediction: {'Sequence': 'MGLQPLEFSDCYLDSPWFRERIRAHEAELERTNKFIKELIKDGKNLIAATKSLSVAQRKFAHSLRDFKFEFIGDAVTDDERCIDASLREFSNFLKNLEEQREIMALSVTETLIKPLEKFRKEQLGAVKEEKKKFDKETEKNYSLIDKHLNLSAKKKDSHLQEADIQVEQNRQHFYELSLEYVCKLQEIQERKKFEFVEPMLSFFQGMFTFYHQGHELAKDFNHYKMELQINIQNTRNRFEGTRSEVEELMNKIRQNPKDHKRASQFTAEGYLYVQEKRPAPFGSSWVKHYCMYRKAAKKFNMIPFEHRSGGKLGDGEVFFLKECTKRHTDSIDRRFCFDIEAADRPGVSLTMQAFSEEERKQWLEALGGKEALSHSFNTAIIPRPEGNAQLDKMGFTIIRKCISAVETRGINDQGLYRVVGVSSKVQRLLSMLMDVKTCNEVDLENSADWEVKTITSALKQYLRSLPEPLMTYELHGDFIVPAKSGSPESRVNAIHFLVHKLPEKNKEMLDILVKHLTNVSNHSKQNLMTVANLGVVFGPTLMRPQEETVAALMDLKFQNIVVEILIENHEKIFRTPPDTTFPEPTCLSASPPNAPPRQSKRQGQRTKRPVAVYNLCLELEDGDNPYPSKEDTPTSSLDSLSSPSPVTTAVPGPPGPDKNHLLADGGSFGDWASTIPGQTRSSMVQWLNPQSPTTTSSNSAVTPLSPGSSPFPFSPPATVADKPPESIRSRKARAVYPCEAEHSSELSFEIGAIFEDVQTSREPGWLEGTLNGKRGLIPQNYVKLL', 'Type': '/home/jeevan/succi/PTMGPT2/Hydroxylation (P) sample model/', 'Results': [{5: 'NEGATIVE'}, {16: 'NEGATIVE'}, {115: 'NEGATIVE'}, {199: 'NEGATIVE'}, {257: 'NEGATIVE'}, {279: 'NEGATIVE'}, {281: 'NEGATIVE'}, {304: 'NEGATIVE'}, {346: 'NEGATIVE'}, {383: 'NEGATIVE'}, {385: 'NEGATIVE'}, {467: 'NEGATIVE'}, {469: 'NEGATIVE'}, {482: 'NEGATIVE'}, {488: 'NEGATIVE'}, {503: 'NEGATIVE'}, {540: 'NEGATIVE'}, {545: 'NEGATIVE'}, {577: 'NEGATIVE'}, {578: 'NEGATIVE'}, {583: 'NEGATIVE'}, {585: 'NEGATIVE'}, {592: 'NEGATIVE'}, {593: 'NEGATIVE'}, {596: 'NEGATIVE'}, {597: 'NEGATIVE'}, {610: 'NEGATIVE'}, {626: 'NEGATIVE'}, {628: 'NEGATIVE'}, {634: 'NEGATIVE'}, {644: 'NEGATIVE'}, {646: 'NEGATIVE'}, {652: 'NEGATIVE'}, {654: 'NEGATIVE'}, {655: 'NEGATIVE'}, {657: 'NEGATIVE'}, {677: 'NEGATIVE'}, {690: 'NEGATIVE'}, {693: 'NEGATIVE'}, {704: 'NEGATIVE'}, {707: 'NEGATIVE'}, {711: 'NEGATIVE'}, {713: 'NEGATIVE'}, {716: 'NEGATIVE'}, {717: 'NEGATIVE'}, {724: 'NEGATIVE'}, {725: 'NEGATIVE'}, {738: 'NEGATIVE'}, {764: 'NEGATIVE'}, {779: 'NEGATIVE'}]}\n",
      "Header : sp|A1A519|F170A_HUMAN Protein FAM170A OS=Homo sapiens OX=9606 GN=FAM170A PE=2 SV=1\n",
      "Prediction: {'Sequence': 'MKRRQKRKHLENEESQETAEKGGGMSKSQEDALQPGSTRVAKGWSQGVGEVTSTSEYCSCVSSSRKLIHSGIQRIHRDSPQPQSPLAQVQERGETPPRSQHVSLSSYSSYKTCVSSLCVNKEERGMKIYYMQVQMNKGVAVSWETEETLESLEKQPRMEEVTLSEVVRVGTPPSDVSTRNLLSDSEPSGEEKEHEERTESDSLPGSPTVEDTPRAKTPDWLVTMENGFRCMACCRVFTTMEALQEHVQFGIREGFSCHVFHLTMAQLTGNMESESTQDEQEEENGNEKEEEEKPEAKEEEGQPTEEDLGLRRSWSQCPGCVFHSPKDRNS', 'Type': '/home/jeevan/succi/PTMGPT2/Hydroxylation (P) sample model/', 'Results': [{35: 'NEGATIVE'}, {80: 'NEGATIVE'}, {82: 'NEGATIVE'}, {85: 'NEGATIVE'}, {96: 'NEGATIVE'}, {97: 'NEGATIVE'}, {156: 'NEGATIVE'}, {172: 'NEGATIVE'}, {173: 'NEGATIVE'}, {187: 'NEGATIVE'}, {204: 'NEGATIVE'}, {207: 'NEGATIVE'}, {213: 'NEGATIVE'}, {218: 'NEGATIVE'}, {294: 'NEGATIVE'}, {303: 'NEGATIVE'}, {318: 'NEGATIVE'}, {325: 'NEGATIVE'}]}\n",
      "Header : sp|A1L190|SYCE3_HUMAN Synaptonemal complex central element protein 3 OS=Homo sapiens OX=9606 GN=SYCE3 PE=1 SV=1\n",
      "Prediction: {'Sequence': 'MDDADPEERNYDNMLKMLSDLNKDLEKLLEEMEKISVQATWMAYDMVVMRTNPTLAESMRRLEDAFVNCKEEMEKNWQELLHETKQRL', 'Type': '/home/jeevan/succi/PTMGPT2/Hydroxylation (P) sample model/', 'Results': [{6: 'NEGATIVE'}, {53: 'NEGATIVE'}]}\n",
      "Header : sp|A1L3X0|ELOV7_HUMAN Very long chain fatty acid elongase 7 OS=Homo sapiens OX=9606 GN=ELOVL7 PE=1 SV=1\n",
      "Prediction: {'Sequence': 'MAFSDLTSRTVHLYDNWIKDADPRVEDWLLMSSPLPQTILLGFYVYFVTSLGPKLMENRKPFELKKAMITYNFFIVLFSVYMCYEFVMSGWGIGYSFRCDIVDYSRSPTALRMARTCWLYYFSKFIELLDTIFFVLRKKNSQVTFLHVFHHTIMPWTWWFGVKFAAGGLGTFHALLNTAVHVVMYSYYGLSALGPAYQKYLWWKKYLTSLQLVQFVIVAIHISQFFFMEDCKYQFPVFACIIMSYSFMFLLLFLHFWYRAYTKGQRLPKTVKNGTCKNKDN', 'Type': '/home/jeevan/succi/PTMGPT2/Hydroxylation (P) sample model/', 'Results': [{23: 'NEGATIVE'}, {34: 'NEGATIVE'}, {36: 'NEGATIVE'}, {53: 'NEGATIVE'}, {61: 'NEGATIVE'}, {108: 'NEGATIVE'}, {155: 'NEGATIVE'}, {195: 'POSITIVE'}, {236: 'NEGATIVE'}, {268: 'NEGATIVE'}]}\n",
      "Header : sp|A1X283|SPD2B_HUMAN SH3 and PX domain-containing protein 2B OS=Homo sapiens OX=9606 GN=SH3PXD2B PE=1 SV=3\n",
      "Prediction: {'Sequence': 'MPPRRSIVEVKVLDVQKRRVPNKHYVYIIRVTWSSGSTEAIYRRYSKFFDLQMQMLDKFPMEGGQKDPKQRIIPFLPGKILFRRSHIRDVAVKRLIPIDEYCKALIQLPPYISQCDEVLQFFETRPEDLNPPKEEHIGKKKSGGDQTSVDPMVLEQYVVVANYQKQESSEISLSVGQVVDIIEKNESGWWFVSTAEEQGWVPATCLEGQDGVQDEFSLQPEEEEKYTVIYPYTARDQDEMNLERGAVVEVIQKNLEGWWKIRYQGKEGWAPASYLKKNSGEPLPPKPGPGSPSHPGALDLDGVSRQQNAVGREKELLSSQRDGRFEGRPVPDGDAKQRSPKMRQRPPPRRDMTIPRGLNLPKPPIPPQVEEEYYTIAEFQTTIPDGISFQAGLKVEVIEKNLSGWWYIQIEDKEGWAPATFIDKYKKTSNASRPNFLAPLPHEVTQLRLGEAAALENNTGSEATGPSRPLPDAPHGVMDSGLPWSKDWKGSKDVLRKASSDMSASAGYEEISDPDMEEKPSLPPRKESIIKSEGELLERERERQRTEQLRGPTPKPPGVILPMMPAKHIPPARDSRRPEPKPDKSRLFQLKNDMGLECGHKVLAKEVKKPNLRPISKSKTDLPEEKPDATPQNPFLKSRPQVRPKPAPSPKTEPPQGEDQVDICNLRSKLRPAKSQDKSLLDGEGPQAVGGQDVAFSRSFLPGEGPGRAQDRTGKQDGLSPKEISCRAPPRPAKTTDPVSKSVPVPLQEAPQQRPVVPPRRPPPPKKTSSSSRPLPEVRGPQCEGHESRAAPTPGRALLVPPKAKPFLSNSLGGQDDTRGKGSLGPWGTGKIGENREKAAAASVPNADGLKDSLYVAVADFEGDKDTSSFQEGTVFEVREKNSSGWWFCQVLSGAPSWEGWIPSNYLRKKP', 'Type': '/home/jeevan/succi/PTMGPT2/Hydroxylation (P) sample model/', 'Results': [{2: 'POSITIVE'}, {3: 'NEGATIVE'}, {21: 'NEGATIVE'}, {60: 'NEGATIVE'}, {68: 'NEGATIVE'}, {74: 'NEGATIVE'}, {77: 'NEGATIVE'}, {97: 'NEGATIVE'}, {109: 'NEGATIVE'}, {110: 'NEGATIVE'}, {126: 'NEGATIVE'}, {131: 'NEGATIVE'}, {132: 'NEGATIVE'}, {151: 'NEGATIVE'}, {202: 'NEGATIVE'}, {220: 'NEGATIVE'}, {231: 'NEGATIVE'}, {271: 'NEGATIVE'}, {282: 'NEGATIVE'}, {284: 'NEGATIVE'}, {285: 'NEGATIVE'}, {287: 'NEGATIVE'}, {289: 'NEGATIVE'}, {292: 'NEGATIVE'}, {295: 'NEGATIVE'}, {329: 'NEGATIVE'}, {331: 'NEGATIVE'}, {340: 'NEGATIVE'}, {346: 'NEGATIVE'}, {347: 'NEGATIVE'}, {348: 'NEGATIVE'}, {355: 'NEGATIVE'}, {361: 'NEGATIVE'}, {363: 'NEGATIVE'}, {364: 'NEGATIVE'}, {366: 'NEGATIVE'}, {367: 'POSITIVE'}, {384: 'NEGATIVE'}, {418: 'NEGATIVE'}, {434: 'NEGATIVE'}, {439: 'NEGATIVE'}, {441: 'NEGATIVE'}, {466: 'NEGATIVE'}, {469: 'NEGATIVE'}, {471: 'NEGATIVE'}, {474: 'NEGATIVE'}, {483: 'NEGATIVE'}, {514: 'NEGATIVE'}, {520: 'NEGATIVE'}, {523: 'NEGATIVE'}, {524: 'NEGATIVE'}, {552: 'NEGATIVE'}, {554: 'NEGATIVE'}, {556: 'NEGATIVE'}, {557: 'NEGATIVE'}, {562: 'NEGATIVE'}, {565: 'NEGATIVE'}, {570: 'NEGATIVE'}, {571: 'NEGATIVE'}, {578: 'NEGATIVE'}, {580: 'NEGATIVE'}, {582: 'NEGATIVE'}, {610: 'NEGATIVE'}, {614: 'NEGATIVE'}, {623: 'NEGATIVE'}, {627: 'NEGATIVE'}, {631: 'NEGATIVE'}, {634: 'NEGATIVE'}, {640: 'NEGATIVE'}, {644: 'NEGATIVE'}, {646: 'NEGATIVE'}, {648: 'NEGATIVE'}, {650: 'NEGATIVE'}, {654: 'NEGATIVE'}, {655: 'NEGATIVE'}, {672: 'NEGATIVE'}, {686: 'NEGATIVE'}, {702: 'NEGATIVE'}, {706: 'NEGATIVE'}, {721: 'NEGATIVE'}, {729: 'NEGATIVE'}, {730: 'NEGATIVE'}, {732: 'NEGATIVE'}, {738: 'NEGATIVE'}, {744: 'NEGATIVE'}, {746: 'NEGATIVE'}, {751: 'NEGATIVE'}, {755: 'NEGATIVE'}, {758: 'NEGATIVE'}, {759: 'NEGATIVE'}, {762: 'NEGATIVE'}, {763: 'NEGATIVE'}, {764: 'NEGATIVE'}, {765: 'NEGATIVE'}, {774: 'NEGATIVE'}, {776: 'NEGATIVE'}, {781: 'NEGATIVE'}, {792: 'NEGATIVE'}, {794: 'NEGATIVE'}, {801: 'NEGATIVE'}, {802: 'NEGATIVE'}, {806: 'NEGATIVE'}, {826: 'NEGATIVE'}, {845: 'NEGATIVE'}, {896: 'NEGATIVE'}, {903: 'NEGATIVE'}, {911: 'NEGATIVE'}]}\n"
     ]
    }
   ],
   "source": [
    "for sequence_id, seq in sequences.items():\n",
    "    print(f\"Header : {sequence_id}\")\n",
    "    result=inference(seq, tokenizer_path ,model_path,Res)\n",
    "    print(f\"Prediction: {result}\")"
   ]
  }
 ],
 "metadata": {
  "kernelspec": {
   "display_name": "Python 3 (ipykernel)",
   "language": "python",
   "name": "python3"
  },
  "language_info": {
   "codemirror_mode": {
    "name": "ipython",
    "version": 3
   },
   "file_extension": ".py",
   "mimetype": "text/x-python",
   "name": "python",
   "nbconvert_exporter": "python",
   "pygments_lexer": "ipython3",
   "version": "3.11.3"
  }
 },
 "nbformat": 4,
 "nbformat_minor": 5
}
